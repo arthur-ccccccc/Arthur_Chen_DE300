{
 "cells": [
  {
   "cell_type": "code",
   "execution_count": 351,
   "metadata": {
    "collapsed": true,
    "pycharm": {
     "name": "#%%\n"
    }
   },
   "outputs": [
    {
     "name": "stderr",
     "output_type": "stream",
     "text": [
      "/var/folders/vz/sz_zpsp925g47k7jh62mz3ch0000gp/T/ipykernel_24621/3063031635.py:3: DtypeWarning: Columns (11) have mixed types. Specify dtype option on import or set low_memory=False.\n",
      "  df = pd.read_csv(\"T_F41SCHEDULE_B43.csv\")\n"
     ]
    },
    {
     "data": {
      "text/plain": "    YEAR CARRIER           CARRIER_NAME  MANUFACTURE_YEAR  \\\n0   2006      16      PSA Airlines Inc.            2003.0   \n1   2006      16      PSA Airlines Inc.            2003.0   \n2   2006      16      PSA Airlines Inc.            2003.0   \n3   2006      16      PSA Airlines Inc.            2003.0   \n4   2006      16      PSA Airlines Inc.            2003.0   \n..   ...     ...                    ...               ...   \n95  2006      5X  United Parcel Service            1967.0   \n96  2006      5X  United Parcel Service            1967.0   \n97  2006      5X  United Parcel Service            1967.0   \n98  2006      5X  United Parcel Service            1967.0   \n99  2006      5X  United Parcel Service            1967.0   \n\n      UNIQUE_CARRIER_NAME SERIAL_NUMBER TAIL_NUMBER AIRCRAFT_STATUS  \\\n0       PSA Airlines Inc.          7858      N202PS               B   \n1       PSA Airlines Inc.          7860      N206PS               B   \n2       PSA Airlines Inc.          7873      N207PS               B   \n3       PSA Airlines Inc.          7874      N209PS               B   \n4       PSA Airlines Inc.          7879      N213PS               B   \n..                    ...           ...         ...             ...   \n95  United Parcel Service         19302      N937UP               O   \n96  United Parcel Service         19314      N906UP               O   \n97  United Parcel Service         19503      N936UP               O   \n98  United Parcel Service         19506      N938UP               O   \n99  United Parcel Service         19721      N946UP               O   \n\n   OPERATING_STATUS  NUMBER_OF_SEATS MANUFACTURER AIRCRAFT_TYPE     MODEL  \\\n0                 Y             50.0     CANADAIR           NaN   CRJ-2/4   \n1                 Y             50.0     CANADAIR           NaN   CRJ-2/4   \n2                 Y             50.0     CANADAIR           NaN   CRJ-2/4   \n3                 Y             50.0     CANADAIR           NaN   CRJ-2/4   \n4                 Y             50.0     CANADAIR           NaN   CRJ-2/4   \n..              ...              ...          ...           ...       ...   \n95                N              0.0       BOEING           NaN  B727-100   \n96                N              0.0       BOEING           NaN  B727-100   \n97                Y              0.0       BOEING           NaN  B727-100   \n98                Y              0.0       BOEING           NaN  B727-100   \n99                N              0.0       BOEING           NaN  B727-100   \n\n    CAPACITY_IN_POUNDS        ACQUISITION_DATE  AIRLINE_ID UNIQUE_CARRIER  \n0              47000.0  10/28/2003 12:00:00 AM     20397.0             16  \n1              47000.0  10/30/2003 12:00:00 AM     20397.0             16  \n2              47000.0  11/26/2003 12:00:00 AM     20397.0             16  \n3              47000.0   12/4/2003 12:00:00 AM     20397.0             16  \n4              47000.0  12/16/2003 12:00:00 AM     20397.0             16  \n..                 ...                     ...         ...            ...  \n95             43500.0    3/1/1994 12:00:00 AM     19917.0             5X  \n96             43500.0    3/8/1993 12:00:00 AM     19917.0             5X  \n97             43500.0  10/10/1989 12:00:00 AM     19917.0             5X  \n98             43500.0    3/1/1994 12:00:00 AM     19917.0             5X  \n99             43500.0   3/21/1994 12:00:00 AM     19917.0             5X  \n\n[100 rows x 17 columns]",
      "text/html": "<div>\n<style scoped>\n    .dataframe tbody tr th:only-of-type {\n        vertical-align: middle;\n    }\n\n    .dataframe tbody tr th {\n        vertical-align: top;\n    }\n\n    .dataframe thead th {\n        text-align: right;\n    }\n</style>\n<table border=\"1\" class=\"dataframe\">\n  <thead>\n    <tr style=\"text-align: right;\">\n      <th></th>\n      <th>YEAR</th>\n      <th>CARRIER</th>\n      <th>CARRIER_NAME</th>\n      <th>MANUFACTURE_YEAR</th>\n      <th>UNIQUE_CARRIER_NAME</th>\n      <th>SERIAL_NUMBER</th>\n      <th>TAIL_NUMBER</th>\n      <th>AIRCRAFT_STATUS</th>\n      <th>OPERATING_STATUS</th>\n      <th>NUMBER_OF_SEATS</th>\n      <th>MANUFACTURER</th>\n      <th>AIRCRAFT_TYPE</th>\n      <th>MODEL</th>\n      <th>CAPACITY_IN_POUNDS</th>\n      <th>ACQUISITION_DATE</th>\n      <th>AIRLINE_ID</th>\n      <th>UNIQUE_CARRIER</th>\n    </tr>\n  </thead>\n  <tbody>\n    <tr>\n      <th>0</th>\n      <td>2006</td>\n      <td>16</td>\n      <td>PSA Airlines Inc.</td>\n      <td>2003.0</td>\n      <td>PSA Airlines Inc.</td>\n      <td>7858</td>\n      <td>N202PS</td>\n      <td>B</td>\n      <td>Y</td>\n      <td>50.0</td>\n      <td>CANADAIR</td>\n      <td>NaN</td>\n      <td>CRJ-2/4</td>\n      <td>47000.0</td>\n      <td>10/28/2003 12:00:00 AM</td>\n      <td>20397.0</td>\n      <td>16</td>\n    </tr>\n    <tr>\n      <th>1</th>\n      <td>2006</td>\n      <td>16</td>\n      <td>PSA Airlines Inc.</td>\n      <td>2003.0</td>\n      <td>PSA Airlines Inc.</td>\n      <td>7860</td>\n      <td>N206PS</td>\n      <td>B</td>\n      <td>Y</td>\n      <td>50.0</td>\n      <td>CANADAIR</td>\n      <td>NaN</td>\n      <td>CRJ-2/4</td>\n      <td>47000.0</td>\n      <td>10/30/2003 12:00:00 AM</td>\n      <td>20397.0</td>\n      <td>16</td>\n    </tr>\n    <tr>\n      <th>2</th>\n      <td>2006</td>\n      <td>16</td>\n      <td>PSA Airlines Inc.</td>\n      <td>2003.0</td>\n      <td>PSA Airlines Inc.</td>\n      <td>7873</td>\n      <td>N207PS</td>\n      <td>B</td>\n      <td>Y</td>\n      <td>50.0</td>\n      <td>CANADAIR</td>\n      <td>NaN</td>\n      <td>CRJ-2/4</td>\n      <td>47000.0</td>\n      <td>11/26/2003 12:00:00 AM</td>\n      <td>20397.0</td>\n      <td>16</td>\n    </tr>\n    <tr>\n      <th>3</th>\n      <td>2006</td>\n      <td>16</td>\n      <td>PSA Airlines Inc.</td>\n      <td>2003.0</td>\n      <td>PSA Airlines Inc.</td>\n      <td>7874</td>\n      <td>N209PS</td>\n      <td>B</td>\n      <td>Y</td>\n      <td>50.0</td>\n      <td>CANADAIR</td>\n      <td>NaN</td>\n      <td>CRJ-2/4</td>\n      <td>47000.0</td>\n      <td>12/4/2003 12:00:00 AM</td>\n      <td>20397.0</td>\n      <td>16</td>\n    </tr>\n    <tr>\n      <th>4</th>\n      <td>2006</td>\n      <td>16</td>\n      <td>PSA Airlines Inc.</td>\n      <td>2003.0</td>\n      <td>PSA Airlines Inc.</td>\n      <td>7879</td>\n      <td>N213PS</td>\n      <td>B</td>\n      <td>Y</td>\n      <td>50.0</td>\n      <td>CANADAIR</td>\n      <td>NaN</td>\n      <td>CRJ-2/4</td>\n      <td>47000.0</td>\n      <td>12/16/2003 12:00:00 AM</td>\n      <td>20397.0</td>\n      <td>16</td>\n    </tr>\n    <tr>\n      <th>...</th>\n      <td>...</td>\n      <td>...</td>\n      <td>...</td>\n      <td>...</td>\n      <td>...</td>\n      <td>...</td>\n      <td>...</td>\n      <td>...</td>\n      <td>...</td>\n      <td>...</td>\n      <td>...</td>\n      <td>...</td>\n      <td>...</td>\n      <td>...</td>\n      <td>...</td>\n      <td>...</td>\n      <td>...</td>\n    </tr>\n    <tr>\n      <th>95</th>\n      <td>2006</td>\n      <td>5X</td>\n      <td>United Parcel Service</td>\n      <td>1967.0</td>\n      <td>United Parcel Service</td>\n      <td>19302</td>\n      <td>N937UP</td>\n      <td>O</td>\n      <td>N</td>\n      <td>0.0</td>\n      <td>BOEING</td>\n      <td>NaN</td>\n      <td>B727-100</td>\n      <td>43500.0</td>\n      <td>3/1/1994 12:00:00 AM</td>\n      <td>19917.0</td>\n      <td>5X</td>\n    </tr>\n    <tr>\n      <th>96</th>\n      <td>2006</td>\n      <td>5X</td>\n      <td>United Parcel Service</td>\n      <td>1967.0</td>\n      <td>United Parcel Service</td>\n      <td>19314</td>\n      <td>N906UP</td>\n      <td>O</td>\n      <td>N</td>\n      <td>0.0</td>\n      <td>BOEING</td>\n      <td>NaN</td>\n      <td>B727-100</td>\n      <td>43500.0</td>\n      <td>3/8/1993 12:00:00 AM</td>\n      <td>19917.0</td>\n      <td>5X</td>\n    </tr>\n    <tr>\n      <th>97</th>\n      <td>2006</td>\n      <td>5X</td>\n      <td>United Parcel Service</td>\n      <td>1967.0</td>\n      <td>United Parcel Service</td>\n      <td>19503</td>\n      <td>N936UP</td>\n      <td>O</td>\n      <td>Y</td>\n      <td>0.0</td>\n      <td>BOEING</td>\n      <td>NaN</td>\n      <td>B727-100</td>\n      <td>43500.0</td>\n      <td>10/10/1989 12:00:00 AM</td>\n      <td>19917.0</td>\n      <td>5X</td>\n    </tr>\n    <tr>\n      <th>98</th>\n      <td>2006</td>\n      <td>5X</td>\n      <td>United Parcel Service</td>\n      <td>1967.0</td>\n      <td>United Parcel Service</td>\n      <td>19506</td>\n      <td>N938UP</td>\n      <td>O</td>\n      <td>Y</td>\n      <td>0.0</td>\n      <td>BOEING</td>\n      <td>NaN</td>\n      <td>B727-100</td>\n      <td>43500.0</td>\n      <td>3/1/1994 12:00:00 AM</td>\n      <td>19917.0</td>\n      <td>5X</td>\n    </tr>\n    <tr>\n      <th>99</th>\n      <td>2006</td>\n      <td>5X</td>\n      <td>United Parcel Service</td>\n      <td>1967.0</td>\n      <td>United Parcel Service</td>\n      <td>19721</td>\n      <td>N946UP</td>\n      <td>O</td>\n      <td>N</td>\n      <td>0.0</td>\n      <td>BOEING</td>\n      <td>NaN</td>\n      <td>B727-100</td>\n      <td>43500.0</td>\n      <td>3/21/1994 12:00:00 AM</td>\n      <td>19917.0</td>\n      <td>5X</td>\n    </tr>\n  </tbody>\n</table>\n<p>100 rows × 17 columns</p>\n</div>"
     },
     "execution_count": 351,
     "metadata": {},
     "output_type": "execute_result"
    }
   ],
   "source": [
    "import pandas as pd\n",
    "\n",
    "df = pd.read_csv(\"T_F41SCHEDULE_B43.csv\")\n",
    "df.head(100)"
   ]
  },
  {
   "cell_type": "markdown",
   "source": [
    "Question 1"
   ],
   "metadata": {
    "collapsed": false,
    "pycharm": {
     "name": "#%% md\n"
    }
   }
  },
  {
   "cell_type": "code",
   "execution_count": 352,
   "outputs": [
    {
     "name": "stdout",
     "output_type": "stream",
     "text": [
      "       YEAR CARRIER             CARRIER_NAME  MANUFACTURE_YEAR  \\\n",
      "11776  2007     NaN  North American Airlines            1993.0   \n",
      "11777  2007     NaN  North American Airlines            1995.0   \n",
      "11778  2007     NaN  North American Airlines            1996.0   \n",
      "11779  2007     NaN  North American Airlines            1996.0   \n",
      "11780  2007     NaN  North American Airlines            1997.0   \n",
      "11781  2007     NaN  North American Airlines            2000.0   \n",
      "11782  2007     NaN  North American Airlines            2001.0   \n",
      "11783  2007     NaN  North American Airlines            2001.0   \n",
      "11784  2007     NaN  North American Airlines            2002.0   \n",
      "11785  2007     NaN  North American Airlines            2002.0   \n",
      "19009  2008     NaN  North American Airlines            1993.0   \n",
      "19010  2008     NaN  North American Airlines            1995.0   \n",
      "19011  2008     NaN  North American Airlines            1996.0   \n",
      "19012  2008     NaN  North American Airlines            1996.0   \n",
      "19013  2008     NaN  North American Airlines            1997.0   \n",
      "19014  2008     NaN  North American Airlines            2000.0   \n",
      "19015  2008     NaN  North American Airlines            2001.0   \n",
      "19016  2008     NaN  North American Airlines            2001.0   \n",
      "19017  2008     NaN  North American Airlines            2002.0   \n",
      "19018  2008     NaN  North American Airlines            2002.0   \n",
      "33678  2010     NaN  North American Airlines            1993.0   \n",
      "33679  2010     NaN  North American Airlines            1993.0   \n",
      "33680  2010     NaN  North American Airlines            1995.0   \n",
      "33681  2010     NaN  North American Airlines            1996.0   \n",
      "33682  2010     NaN  North American Airlines            1996.0   \n",
      "33683  2010     NaN  North American Airlines            1999.0   \n",
      "33684  2010     NaN  North American Airlines            1999.0   \n",
      "33685  2010     NaN  North American Airlines            2000.0   \n",
      "33686  2010     NaN  North American Airlines            2001.0   \n",
      "33687  2010     NaN  North American Airlines            2001.0   \n",
      "40715  2011     NaN  North American Airlines            1993.0   \n",
      "40716  2011     NaN  North American Airlines            1993.0   \n",
      "40717  2011     NaN  North American Airlines            1993.0   \n",
      "40718  2011     NaN  North American Airlines            1995.0   \n",
      "40719  2011     NaN  North American Airlines            1996.0   \n",
      "40720  2011     NaN  North American Airlines            1999.0   \n",
      "40721  2011     NaN  North American Airlines            1999.0   \n",
      "40722  2011     NaN  North American Airlines            2000.0   \n",
      "40723  2011     NaN  North American Airlines            2001.0   \n",
      "47729  2012     NaN  North American Airlines            1993.0   \n",
      "47730  2012     NaN  North American Airlines            1993.0   \n",
      "47731  2012     NaN  North American Airlines            1993.0   \n",
      "47732  2012     NaN  North American Airlines            1996.0   \n",
      "47733  2012     NaN  North American Airlines            1999.0   \n",
      "54546  2013     NaN  North American Airlines            1993.0   \n",
      "54547  2013     NaN  North American Airlines            1993.0   \n",
      "54548  2013     NaN  North American Airlines            1993.0   \n",
      "54549  2013     NaN  North American Airlines            1996.0   \n",
      "54550  2013     NaN  North American Airlines            1999.0   \n",
      "\n",
      "           UNIQUE_CARRIER_NAME SERIAL_NUMBER TAIL_NUMBER AIRCRAFT_STATUS  \\\n",
      "11776  North American Airlines         26257      N760NA               B   \n",
      "11777  North American Airlines         26277      N750NA               B   \n",
      "11778  North American Airlines         28039      N769NA               B   \n",
      "11779  North American Airlines         28098      N765NA               B   \n",
      "11780  North American Airlines         28174      N752NA               B   \n",
      "11781  North American Airlines         30043      N755NA               B   \n",
      "11782  North American Airlines         29381      N754NA               B   \n",
      "11783  North American Airlines         32448      N756NA               B   \n",
      "11784  North American Airlines         27569      N767NA               B   \n",
      "11785  North American Airlines         29898      N768NA               B   \n",
      "19009  North American Airlines         26257      N760NA               B   \n",
      "19010  North American Airlines         26277      N750NA               B   \n",
      "19011  North American Airlines         28039      N769NA               B   \n",
      "19012  North American Airlines         28098      N765NA               B   \n",
      "19013  North American Airlines         28174      N752NA               B   \n",
      "19014  North American Airlines         30043      N755NA               B   \n",
      "19015  North American Airlines         29381      N754NA               B   \n",
      "19016  North American Airlines         32448      N756NA               B   \n",
      "19017  North American Airlines         27569      N767NA               B   \n",
      "19018  North American Airlines         29898      N768NA               B   \n",
      "33678  North American Airlines         26257      N760NA               b   \n",
      "33679  North American Airlines         29898      N768NA               b   \n",
      "33680  North American Airlines         26277      N750NA               b   \n",
      "33681  North American Airlines         27135      N764NA               b   \n",
      "33682  North American Airlines         28098      N765NA               b   \n",
      "33683  North American Airlines         27569      N767NA               b   \n",
      "33684  North American Airlines         32448      N756NA               b   \n",
      "33685  North American Airlines         28174      N752NA               b   \n",
      "33686  North American Airlines         29381      N754NA               b   \n",
      "33687  North American Airlines         30043      N755NA               b   \n",
      "40715  North American Airlines         24876      N762NA               b   \n",
      "40716  North American Airlines         26257      N760NA               b   \n",
      "40717  North American Airlines         27135      N764NA               b   \n",
      "40718  North American Airlines         26277      N750NA               b   \n",
      "40719  North American Airlines         27569      N767NA               b   \n",
      "40720  North American Airlines         28174      N752NA               b   \n",
      "40721  North American Airlines         29898      N768NA               b   \n",
      "40722  North American Airlines         30043      N755NA               b   \n",
      "40723  North American Airlines         29381      N754NA               b   \n",
      "47729  North American Airlines         24876      N762NA               b   \n",
      "47730  North American Airlines         26257      N760NA               b   \n",
      "47731  North American Airlines         27135      N764NA               b   \n",
      "47732  North American Airlines         27569      N767NA               b   \n",
      "47733  North American Airlines         29898      N768NA               b   \n",
      "54546  North American Airlines         24876      N762NA               b   \n",
      "54547  North American Airlines         26257      N760NA               b   \n",
      "54548  North American Airlines         27135      N764NA               b   \n",
      "54549  North American Airlines         27569      N767NA               b   \n",
      "54550  North American Airlines         29898      N768NA               b   \n",
      "\n",
      "      OPERATING_STATUS  NUMBER_OF_SEATS MANUFACTURER AIRCRAFT_TYPE  \\\n",
      "11776                Y            273.0       BOEING           NaN   \n",
      "11777                Y            199.0       BOEING           NaN   \n",
      "11778                Y            268.0       BOEING           NaN   \n",
      "11779                Y            206.0       BOEING           NaN   \n",
      "11780                Y            199.0       BOEING           NaN   \n",
      "11781                Y            199.0       BOEING           NaN   \n",
      "11782                Y            199.0       BOEING           NaN   \n",
      "11783                Y            199.0       BOEING           NaN   \n",
      "11784                Y            247.0       BOEING           NaN   \n",
      "11785                Y            262.0       BOEING           NaN   \n",
      "19009                Y            273.0       BOEING           NaN   \n",
      "19010                Y            199.0       BOEING           NaN   \n",
      "19011                Y            268.0       BOEING           NaN   \n",
      "19012                Y            206.0       BOEING           NaN   \n",
      "19013                Y            199.0       BOEING           NaN   \n",
      "19014                Y            199.0       BOEING           NaN   \n",
      "19015                Y            199.0       BOEING           NaN   \n",
      "19016                Y            199.0       BOEING           NaN   \n",
      "19017                Y            247.0       BOEING           NaN   \n",
      "19018                Y            262.0       BOEING           NaN   \n",
      "33678                Y            273.0       Boeing          6261   \n",
      "33679                Y            262.0       Boeing          6261   \n",
      "33680                Y            199.0       Boeing          6221   \n",
      "33681                Y            252.0       Boeing          6261   \n",
      "33682                Y            206.0       Boeing          6261   \n",
      "33683                Y            247.0       Boeing          6261   \n",
      "33684                Y            199.0       Boeing          6221   \n",
      "33685                Y            199.0       Boeing          6221   \n",
      "33686                Y            199.0       Boeing          6221   \n",
      "33687                Y            199.0       Boeing          6221   \n",
      "40715                Y            240.0       Boeing          6261   \n",
      "40716                Y            273.0       Boeing          6261   \n",
      "40717                Y            252.0       Boeing          6261   \n",
      "40718                Y            199.0       Boeing          6221   \n",
      "40719                Y            247.0       Boeing          6261   \n",
      "40720                Y            199.0       Boeing          6221   \n",
      "40721                Y            262.0       Boeing          6261   \n",
      "40722                Y            199.0       Boeing          6221   \n",
      "40723                Y            199.0       Boeing          6221   \n",
      "47729                Y            240.0       Boeing          6261   \n",
      "47730                Y            273.0       Boeing          6261   \n",
      "47731                Y            252.0       Boeing          6261   \n",
      "47732                Y            247.0       Boeing          6261   \n",
      "47733                Y            262.0       Boeing          6261   \n",
      "54546                Y            240.0       Boeing          6261   \n",
      "54547                Y            273.0       Boeing          6261   \n",
      "54548                Y            252.0       Boeing          6261   \n",
      "54549                Y            247.0       Boeing          6261   \n",
      "54550                Y            262.0       Boeing          6261   \n",
      "\n",
      "              MODEL  CAPACITY_IN_POUNDS       ACQUISITION_DATE  AIRLINE_ID  \\\n",
      "11776        B767-3            104476.0  3/23/2004 12:00:00 AM     20415.0   \n",
      "11777        B757-2             58491.0  1/27/1995 12:00:00 AM     20415.0   \n",
      "11778        B767-3            100500.0  2/19/2007 12:00:00 AM     20415.0   \n",
      "11779        B767-3             94523.0  3/23/2006 12:00:00 AM     20415.0   \n",
      "11780        B757-2             58948.0  5/12/1999 12:00:00 AM     20415.0   \n",
      "11781        B757-2             56526.0  2/25/2003 12:00:00 AM     20415.0   \n",
      "11782        B757-2             58550.0   4/2/2001 12:00:00 AM     20415.0   \n",
      "11783        B757-2             58159.0   6/3/2001 12:00:00 AM     20415.0   \n",
      "11784        B767-3            105420.0  8/14/2002 12:00:00 AM     20415.0   \n",
      "11785        B767-3            103057.0   9/6/2002 12:00:00 AM     20415.0   \n",
      "19009        B767-3            104476.0  3/23/2004 12:00:00 AM     20415.0   \n",
      "19010        B757-2             58491.0  1/27/1995 12:00:00 AM     20415.0   \n",
      "19011        B767-3            100500.0  2/19/2007 12:00:00 AM     20415.0   \n",
      "19012        B767-3             94523.0  3/23/2006 12:00:00 AM     20415.0   \n",
      "19013        B757-2             58948.0  5/12/1999 12:00:00 AM     20415.0   \n",
      "19014        B757-2             56526.0  2/25/2003 12:00:00 AM     20415.0   \n",
      "19015        B757-2             58550.0   4/2/2001 12:00:00 AM     20415.0   \n",
      "19016        B757-2             58159.0   6/3/2001 12:00:00 AM     20415.0   \n",
      "19017        B767-3            105420.0  8/14/2002 12:00:00 AM     20415.0   \n",
      "19018        B767-3            103057.0   9/6/2002 12:00:00 AM     20415.0   \n",
      "33678       B-767-3            104476.0  3/23/2004 12:00:00 AM     20415.0   \n",
      "33679       B-767-3            103057.0   9/6/2002 12:00:00 AM     20415.0   \n",
      "33680       B-757-2             58491.0  1/27/1995 12:00:00 AM     20415.0   \n",
      "33681       B-767-3            103150.0  3/20/2009 12:00:00 AM     20415.0   \n",
      "33682       B-767-3             94523.0  3/23/2006 12:00:00 AM     20415.0   \n",
      "33683       B-767-3            105420.0  8/14/2002 12:00:00 AM     20415.0   \n",
      "33684       B-757-2             58159.0   6/3/2001 12:00:00 AM     20415.0   \n",
      "33685       B-757-2             58948.0  5/12/1999 12:00:00 AM     20415.0   \n",
      "33686       B-757-2             58550.0   4/2/2001 12:00:00 AM     20415.0   \n",
      "33687       B-757-2             56526.0  2/25/2003 12:00:00 AM     20415.0   \n",
      "40715  B767-300PSGR             95662.0   6/6/2011 12:00:00 AM     20415.0   \n",
      "40716  B767-300PSGR            104476.0  3/23/2004 12:00:00 AM     20415.0   \n",
      "40717  B767-300PSGR            103150.0  2/20/2009 12:00:00 AM     20415.0   \n",
      "40718  B757-200PSGR             58491.0  4/29/1995 12:00:00 AM     20415.0   \n",
      "40719  B767-300PSGR            105420.0  8/14/2002 12:00:00 AM     20415.0   \n",
      "40720  B757-200PSGR             58948.0  1/23/1999 12:00:00 AM     20415.0   \n",
      "40721  B767-300PSGR            103057.0   9/6/2002 12:00:00 AM     20415.0   \n",
      "40722  B757-200PSGR             56526.0  2/25/2003 12:00:00 AM     20415.0   \n",
      "40723  B757-200PSGR             58550.0   3/4/2001 12:00:00 AM     20415.0   \n",
      "47729  B-767-300PAX             95662.0   6/6/2011 12:00:00 AM     20415.0   \n",
      "47730  B-767-300PAX            104476.0  3/23/2004 12:00:00 AM     20415.0   \n",
      "47731  B-767-300PAX            103150.0  2/20/2009 12:00:00 AM     20415.0   \n",
      "47732  B-767-300PAX            105420.0  8/14/2002 12:00:00 AM     20415.0   \n",
      "47733  B-767-300PAX            103057.0   9/6/2002 12:00:00 AM     20415.0   \n",
      "54546  B767-300PSGR             95662.0   6/6/2011 12:00:00 AM     20415.0   \n",
      "54547  B767-300PSGR            104476.0  3/23/2004 12:00:00 AM     20415.0   \n",
      "54548  B767-300PSGR            103150.0  2/20/2009 12:00:00 AM     20415.0   \n",
      "54549  B767-300PSGR            105420.0  8/14/2002 12:00:00 AM     20415.0   \n",
      "54550  B767-300PSGR            103057.0   9/6/2002 12:00:00 AM     20415.0   \n",
      "\n",
      "      UNIQUE_CARRIER  \n",
      "11776            NaN  \n",
      "11777            NaN  \n",
      "11778            NaN  \n",
      "11779            NaN  \n",
      "11780            NaN  \n",
      "11781            NaN  \n",
      "11782            NaN  \n",
      "11783            NaN  \n",
      "11784            NaN  \n",
      "11785            NaN  \n",
      "19009            NaN  \n",
      "19010            NaN  \n",
      "19011            NaN  \n",
      "19012            NaN  \n",
      "19013            NaN  \n",
      "19014            NaN  \n",
      "19015            NaN  \n",
      "19016            NaN  \n",
      "19017            NaN  \n",
      "19018            NaN  \n",
      "33678            NaN  \n",
      "33679            NaN  \n",
      "33680            NaN  \n",
      "33681            NaN  \n",
      "33682            NaN  \n",
      "33683            NaN  \n",
      "33684            NaN  \n",
      "33685            NaN  \n",
      "33686            NaN  \n",
      "33687            NaN  \n",
      "40715            NaN  \n",
      "40716            NaN  \n",
      "40717            NaN  \n",
      "40718            NaN  \n",
      "40719            NaN  \n",
      "40720            NaN  \n",
      "40721            NaN  \n",
      "40722            NaN  \n",
      "40723            NaN  \n",
      "47729            NaN  \n",
      "47730            NaN  \n",
      "47731            NaN  \n",
      "47732            NaN  \n",
      "47733            NaN  \n",
      "54546            NaN  \n",
      "54547            NaN  \n",
      "54548            NaN  \n",
      "54549            NaN  \n",
      "54550            NaN  \n"
     ]
    }
   ],
   "source": [
    "miss_carrier = df[\"CARRIER\"].isna()\n",
    "miss_carrier_name = df[\"CARRIER_NAME\"].isna()\n",
    "print(df.loc[miss_carrier])"
   ],
   "metadata": {
    "collapsed": false,
    "pycharm": {
     "name": "#%%\n"
    }
   }
  },
  {
   "cell_type": "markdown",
   "source": [
    "It seems like only North American Airlines has missing \"CARRIER\" field. By searching online, we know that it has an CARRIER code of \"NA\". Hence, constant imputation is good here. One conjecture is that, the \"NA\" code was mixed with the na type and hence the codes are shown as missing."
   ],
   "metadata": {
    "collapsed": false,
    "pycharm": {
     "name": "#%% md\n"
    }
   }
  },
  {
   "cell_type": "code",
   "execution_count": 353,
   "outputs": [
    {
     "name": "stdout",
     "output_type": "stream",
     "text": [
      "       YEAR CARRIER             CARRIER_NAME  MANUFACTURE_YEAR  \\\n",
      "11776  2007      NA  North American Airlines            1993.0   \n",
      "11777  2007      NA  North American Airlines            1995.0   \n",
      "11778  2007      NA  North American Airlines            1996.0   \n",
      "11779  2007      NA  North American Airlines            1996.0   \n",
      "11780  2007      NA  North American Airlines            1997.0   \n",
      "11781  2007      NA  North American Airlines            2000.0   \n",
      "11782  2007      NA  North American Airlines            2001.0   \n",
      "11783  2007      NA  North American Airlines            2001.0   \n",
      "11784  2007      NA  North American Airlines            2002.0   \n",
      "11785  2007      NA  North American Airlines            2002.0   \n",
      "19009  2008      NA  North American Airlines            1993.0   \n",
      "19010  2008      NA  North American Airlines            1995.0   \n",
      "19011  2008      NA  North American Airlines            1996.0   \n",
      "19012  2008      NA  North American Airlines            1996.0   \n",
      "19013  2008      NA  North American Airlines            1997.0   \n",
      "19014  2008      NA  North American Airlines            2000.0   \n",
      "19015  2008      NA  North American Airlines            2001.0   \n",
      "19016  2008      NA  North American Airlines            2001.0   \n",
      "19017  2008      NA  North American Airlines            2002.0   \n",
      "19018  2008      NA  North American Airlines            2002.0   \n",
      "33678  2010      NA  North American Airlines            1993.0   \n",
      "33679  2010      NA  North American Airlines            1993.0   \n",
      "33680  2010      NA  North American Airlines            1995.0   \n",
      "33681  2010      NA  North American Airlines            1996.0   \n",
      "33682  2010      NA  North American Airlines            1996.0   \n",
      "33683  2010      NA  North American Airlines            1999.0   \n",
      "33684  2010      NA  North American Airlines            1999.0   \n",
      "33685  2010      NA  North American Airlines            2000.0   \n",
      "33686  2010      NA  North American Airlines            2001.0   \n",
      "33687  2010      NA  North American Airlines            2001.0   \n",
      "40715  2011      NA  North American Airlines            1993.0   \n",
      "40716  2011      NA  North American Airlines            1993.0   \n",
      "40717  2011      NA  North American Airlines            1993.0   \n",
      "40718  2011      NA  North American Airlines            1995.0   \n",
      "40719  2011      NA  North American Airlines            1996.0   \n",
      "40720  2011      NA  North American Airlines            1999.0   \n",
      "40721  2011      NA  North American Airlines            1999.0   \n",
      "40722  2011      NA  North American Airlines            2000.0   \n",
      "40723  2011      NA  North American Airlines            2001.0   \n",
      "47729  2012      NA  North American Airlines            1993.0   \n",
      "47730  2012      NA  North American Airlines            1993.0   \n",
      "47731  2012      NA  North American Airlines            1993.0   \n",
      "47732  2012      NA  North American Airlines            1996.0   \n",
      "47733  2012      NA  North American Airlines            1999.0   \n",
      "54546  2013      NA  North American Airlines            1993.0   \n",
      "54547  2013      NA  North American Airlines            1993.0   \n",
      "54548  2013      NA  North American Airlines            1993.0   \n",
      "54549  2013      NA  North American Airlines            1996.0   \n",
      "54550  2013      NA  North American Airlines            1999.0   \n",
      "\n",
      "           UNIQUE_CARRIER_NAME SERIAL_NUMBER TAIL_NUMBER AIRCRAFT_STATUS  \\\n",
      "11776  North American Airlines         26257      N760NA               B   \n",
      "11777  North American Airlines         26277      N750NA               B   \n",
      "11778  North American Airlines         28039      N769NA               B   \n",
      "11779  North American Airlines         28098      N765NA               B   \n",
      "11780  North American Airlines         28174      N752NA               B   \n",
      "11781  North American Airlines         30043      N755NA               B   \n",
      "11782  North American Airlines         29381      N754NA               B   \n",
      "11783  North American Airlines         32448      N756NA               B   \n",
      "11784  North American Airlines         27569      N767NA               B   \n",
      "11785  North American Airlines         29898      N768NA               B   \n",
      "19009  North American Airlines         26257      N760NA               B   \n",
      "19010  North American Airlines         26277      N750NA               B   \n",
      "19011  North American Airlines         28039      N769NA               B   \n",
      "19012  North American Airlines         28098      N765NA               B   \n",
      "19013  North American Airlines         28174      N752NA               B   \n",
      "19014  North American Airlines         30043      N755NA               B   \n",
      "19015  North American Airlines         29381      N754NA               B   \n",
      "19016  North American Airlines         32448      N756NA               B   \n",
      "19017  North American Airlines         27569      N767NA               B   \n",
      "19018  North American Airlines         29898      N768NA               B   \n",
      "33678  North American Airlines         26257      N760NA               b   \n",
      "33679  North American Airlines         29898      N768NA               b   \n",
      "33680  North American Airlines         26277      N750NA               b   \n",
      "33681  North American Airlines         27135      N764NA               b   \n",
      "33682  North American Airlines         28098      N765NA               b   \n",
      "33683  North American Airlines         27569      N767NA               b   \n",
      "33684  North American Airlines         32448      N756NA               b   \n",
      "33685  North American Airlines         28174      N752NA               b   \n",
      "33686  North American Airlines         29381      N754NA               b   \n",
      "33687  North American Airlines         30043      N755NA               b   \n",
      "40715  North American Airlines         24876      N762NA               b   \n",
      "40716  North American Airlines         26257      N760NA               b   \n",
      "40717  North American Airlines         27135      N764NA               b   \n",
      "40718  North American Airlines         26277      N750NA               b   \n",
      "40719  North American Airlines         27569      N767NA               b   \n",
      "40720  North American Airlines         28174      N752NA               b   \n",
      "40721  North American Airlines         29898      N768NA               b   \n",
      "40722  North American Airlines         30043      N755NA               b   \n",
      "40723  North American Airlines         29381      N754NA               b   \n",
      "47729  North American Airlines         24876      N762NA               b   \n",
      "47730  North American Airlines         26257      N760NA               b   \n",
      "47731  North American Airlines         27135      N764NA               b   \n",
      "47732  North American Airlines         27569      N767NA               b   \n",
      "47733  North American Airlines         29898      N768NA               b   \n",
      "54546  North American Airlines         24876      N762NA               b   \n",
      "54547  North American Airlines         26257      N760NA               b   \n",
      "54548  North American Airlines         27135      N764NA               b   \n",
      "54549  North American Airlines         27569      N767NA               b   \n",
      "54550  North American Airlines         29898      N768NA               b   \n",
      "\n",
      "      OPERATING_STATUS  NUMBER_OF_SEATS MANUFACTURER AIRCRAFT_TYPE  \\\n",
      "11776                Y            273.0       BOEING           NaN   \n",
      "11777                Y            199.0       BOEING           NaN   \n",
      "11778                Y            268.0       BOEING           NaN   \n",
      "11779                Y            206.0       BOEING           NaN   \n",
      "11780                Y            199.0       BOEING           NaN   \n",
      "11781                Y            199.0       BOEING           NaN   \n",
      "11782                Y            199.0       BOEING           NaN   \n",
      "11783                Y            199.0       BOEING           NaN   \n",
      "11784                Y            247.0       BOEING           NaN   \n",
      "11785                Y            262.0       BOEING           NaN   \n",
      "19009                Y            273.0       BOEING           NaN   \n",
      "19010                Y            199.0       BOEING           NaN   \n",
      "19011                Y            268.0       BOEING           NaN   \n",
      "19012                Y            206.0       BOEING           NaN   \n",
      "19013                Y            199.0       BOEING           NaN   \n",
      "19014                Y            199.0       BOEING           NaN   \n",
      "19015                Y            199.0       BOEING           NaN   \n",
      "19016                Y            199.0       BOEING           NaN   \n",
      "19017                Y            247.0       BOEING           NaN   \n",
      "19018                Y            262.0       BOEING           NaN   \n",
      "33678                Y            273.0       Boeing          6261   \n",
      "33679                Y            262.0       Boeing          6261   \n",
      "33680                Y            199.0       Boeing          6221   \n",
      "33681                Y            252.0       Boeing          6261   \n",
      "33682                Y            206.0       Boeing          6261   \n",
      "33683                Y            247.0       Boeing          6261   \n",
      "33684                Y            199.0       Boeing          6221   \n",
      "33685                Y            199.0       Boeing          6221   \n",
      "33686                Y            199.0       Boeing          6221   \n",
      "33687                Y            199.0       Boeing          6221   \n",
      "40715                Y            240.0       Boeing          6261   \n",
      "40716                Y            273.0       Boeing          6261   \n",
      "40717                Y            252.0       Boeing          6261   \n",
      "40718                Y            199.0       Boeing          6221   \n",
      "40719                Y            247.0       Boeing          6261   \n",
      "40720                Y            199.0       Boeing          6221   \n",
      "40721                Y            262.0       Boeing          6261   \n",
      "40722                Y            199.0       Boeing          6221   \n",
      "40723                Y            199.0       Boeing          6221   \n",
      "47729                Y            240.0       Boeing          6261   \n",
      "47730                Y            273.0       Boeing          6261   \n",
      "47731                Y            252.0       Boeing          6261   \n",
      "47732                Y            247.0       Boeing          6261   \n",
      "47733                Y            262.0       Boeing          6261   \n",
      "54546                Y            240.0       Boeing          6261   \n",
      "54547                Y            273.0       Boeing          6261   \n",
      "54548                Y            252.0       Boeing          6261   \n",
      "54549                Y            247.0       Boeing          6261   \n",
      "54550                Y            262.0       Boeing          6261   \n",
      "\n",
      "              MODEL  CAPACITY_IN_POUNDS       ACQUISITION_DATE  AIRLINE_ID  \\\n",
      "11776        B767-3            104476.0  3/23/2004 12:00:00 AM     20415.0   \n",
      "11777        B757-2             58491.0  1/27/1995 12:00:00 AM     20415.0   \n",
      "11778        B767-3            100500.0  2/19/2007 12:00:00 AM     20415.0   \n",
      "11779        B767-3             94523.0  3/23/2006 12:00:00 AM     20415.0   \n",
      "11780        B757-2             58948.0  5/12/1999 12:00:00 AM     20415.0   \n",
      "11781        B757-2             56526.0  2/25/2003 12:00:00 AM     20415.0   \n",
      "11782        B757-2             58550.0   4/2/2001 12:00:00 AM     20415.0   \n",
      "11783        B757-2             58159.0   6/3/2001 12:00:00 AM     20415.0   \n",
      "11784        B767-3            105420.0  8/14/2002 12:00:00 AM     20415.0   \n",
      "11785        B767-3            103057.0   9/6/2002 12:00:00 AM     20415.0   \n",
      "19009        B767-3            104476.0  3/23/2004 12:00:00 AM     20415.0   \n",
      "19010        B757-2             58491.0  1/27/1995 12:00:00 AM     20415.0   \n",
      "19011        B767-3            100500.0  2/19/2007 12:00:00 AM     20415.0   \n",
      "19012        B767-3             94523.0  3/23/2006 12:00:00 AM     20415.0   \n",
      "19013        B757-2             58948.0  5/12/1999 12:00:00 AM     20415.0   \n",
      "19014        B757-2             56526.0  2/25/2003 12:00:00 AM     20415.0   \n",
      "19015        B757-2             58550.0   4/2/2001 12:00:00 AM     20415.0   \n",
      "19016        B757-2             58159.0   6/3/2001 12:00:00 AM     20415.0   \n",
      "19017        B767-3            105420.0  8/14/2002 12:00:00 AM     20415.0   \n",
      "19018        B767-3            103057.0   9/6/2002 12:00:00 AM     20415.0   \n",
      "33678       B-767-3            104476.0  3/23/2004 12:00:00 AM     20415.0   \n",
      "33679       B-767-3            103057.0   9/6/2002 12:00:00 AM     20415.0   \n",
      "33680       B-757-2             58491.0  1/27/1995 12:00:00 AM     20415.0   \n",
      "33681       B-767-3            103150.0  3/20/2009 12:00:00 AM     20415.0   \n",
      "33682       B-767-3             94523.0  3/23/2006 12:00:00 AM     20415.0   \n",
      "33683       B-767-3            105420.0  8/14/2002 12:00:00 AM     20415.0   \n",
      "33684       B-757-2             58159.0   6/3/2001 12:00:00 AM     20415.0   \n",
      "33685       B-757-2             58948.0  5/12/1999 12:00:00 AM     20415.0   \n",
      "33686       B-757-2             58550.0   4/2/2001 12:00:00 AM     20415.0   \n",
      "33687       B-757-2             56526.0  2/25/2003 12:00:00 AM     20415.0   \n",
      "40715  B767-300PSGR             95662.0   6/6/2011 12:00:00 AM     20415.0   \n",
      "40716  B767-300PSGR            104476.0  3/23/2004 12:00:00 AM     20415.0   \n",
      "40717  B767-300PSGR            103150.0  2/20/2009 12:00:00 AM     20415.0   \n",
      "40718  B757-200PSGR             58491.0  4/29/1995 12:00:00 AM     20415.0   \n",
      "40719  B767-300PSGR            105420.0  8/14/2002 12:00:00 AM     20415.0   \n",
      "40720  B757-200PSGR             58948.0  1/23/1999 12:00:00 AM     20415.0   \n",
      "40721  B767-300PSGR            103057.0   9/6/2002 12:00:00 AM     20415.0   \n",
      "40722  B757-200PSGR             56526.0  2/25/2003 12:00:00 AM     20415.0   \n",
      "40723  B757-200PSGR             58550.0   3/4/2001 12:00:00 AM     20415.0   \n",
      "47729  B-767-300PAX             95662.0   6/6/2011 12:00:00 AM     20415.0   \n",
      "47730  B-767-300PAX            104476.0  3/23/2004 12:00:00 AM     20415.0   \n",
      "47731  B-767-300PAX            103150.0  2/20/2009 12:00:00 AM     20415.0   \n",
      "47732  B-767-300PAX            105420.0  8/14/2002 12:00:00 AM     20415.0   \n",
      "47733  B-767-300PAX            103057.0   9/6/2002 12:00:00 AM     20415.0   \n",
      "54546  B767-300PSGR             95662.0   6/6/2011 12:00:00 AM     20415.0   \n",
      "54547  B767-300PSGR            104476.0  3/23/2004 12:00:00 AM     20415.0   \n",
      "54548  B767-300PSGR            103150.0  2/20/2009 12:00:00 AM     20415.0   \n",
      "54549  B767-300PSGR            105420.0  8/14/2002 12:00:00 AM     20415.0   \n",
      "54550  B767-300PSGR            103057.0   9/6/2002 12:00:00 AM     20415.0   \n",
      "\n",
      "      UNIQUE_CARRIER  \n",
      "11776            NaN  \n",
      "11777            NaN  \n",
      "11778            NaN  \n",
      "11779            NaN  \n",
      "11780            NaN  \n",
      "11781            NaN  \n",
      "11782            NaN  \n",
      "11783            NaN  \n",
      "11784            NaN  \n",
      "11785            NaN  \n",
      "19009            NaN  \n",
      "19010            NaN  \n",
      "19011            NaN  \n",
      "19012            NaN  \n",
      "19013            NaN  \n",
      "19014            NaN  \n",
      "19015            NaN  \n",
      "19016            NaN  \n",
      "19017            NaN  \n",
      "19018            NaN  \n",
      "33678            NaN  \n",
      "33679            NaN  \n",
      "33680            NaN  \n",
      "33681            NaN  \n",
      "33682            NaN  \n",
      "33683            NaN  \n",
      "33684            NaN  \n",
      "33685            NaN  \n",
      "33686            NaN  \n",
      "33687            NaN  \n",
      "40715            NaN  \n",
      "40716            NaN  \n",
      "40717            NaN  \n",
      "40718            NaN  \n",
      "40719            NaN  \n",
      "40720            NaN  \n",
      "40721            NaN  \n",
      "40722            NaN  \n",
      "40723            NaN  \n",
      "47729            NaN  \n",
      "47730            NaN  \n",
      "47731            NaN  \n",
      "47732            NaN  \n",
      "47733            NaN  \n",
      "54546            NaN  \n",
      "54547            NaN  \n",
      "54548            NaN  \n",
      "54549            NaN  \n",
      "54550            NaN  \n"
     ]
    }
   ],
   "source": [
    "df.loc[df[\"CARRIER\"].isna(), \"CARRIER\"] = \"NA\"\n",
    "print(df.loc[miss_carrier])"
   ],
   "metadata": {
    "collapsed": false,
    "pycharm": {
     "name": "#%%\n"
    }
   }
  },
  {
   "cell_type": "code",
   "execution_count": 354,
   "outputs": [
    {
     "name": "stdout",
     "output_type": "stream",
     "text": [
      "      CARRIER UNIQUE_CARRIER\n",
      "11465      L4            NaN\n",
      "54610      OH            NaN\n"
     ]
    }
   ],
   "source": [
    "print(df.loc[miss_carrier_name, [\"CARRIER\", \"UNIQUE_CARRIER\"]].drop_duplicates())"
   ],
   "metadata": {
    "collapsed": false,
    "pycharm": {
     "name": "#%%\n"
    }
   }
  },
  {
   "cell_type": "markdown",
   "source": [
    "It turns out that only CARRIER L4 and OH have missing CARRIER_NAME. Now search if any other records in the data match"
   ],
   "metadata": {
    "collapsed": false,
    "pycharm": {
     "name": "#%% md\n"
    }
   }
  },
  {
   "cell_type": "code",
   "execution_count": 355,
   "outputs": [
    {
     "name": "stdout",
     "output_type": "stream",
     "text": [
      "11465                                      NaN\n",
      "18739    Lynx Aviation d/b/a Frontier Airlines\n",
      "Name: CARRIER_NAME, dtype: object\n"
     ]
    }
   ],
   "source": [
    "print(df.loc[df[\"CARRIER\"] == \"L4\", \"CARRIER_NAME\"].drop_duplicates())"
   ],
   "metadata": {
    "collapsed": false,
    "pycharm": {
     "name": "#%%\n"
    }
   }
  },
  {
   "cell_type": "code",
   "execution_count": 356,
   "outputs": [
    {
     "name": "stdout",
     "output_type": "stream",
     "text": [
      "4896           Comair Inc.\n",
      "54610                  NaN\n",
      "68915    PSA Airlines Inc.\n",
      "Name: CARRIER_NAME, dtype: object\n"
     ]
    }
   ],
   "source": [
    "print(df.loc[df[\"CARRIER\"] == \"OH\", \"CARRIER_NAME\"].drop_duplicates())"
   ],
   "metadata": {
    "collapsed": false,
    "pycharm": {
     "name": "#%%\n"
    }
   }
  },
  {
   "cell_type": "markdown",
   "source": [
    "We see all L4 code belongs to \"Lynx Aviation d/b/a Frontier Airlines\" so we can impute. However, two carriers share the code \"OH\". As explained by the BTS data attributes page, this is possible. Hence we cannot decide what to fill and should leave blank.\n"
   ],
   "metadata": {
    "collapsed": false,
    "pycharm": {
     "name": "#%% md\n"
    }
   }
  },
  {
   "cell_type": "code",
   "execution_count": 357,
   "outputs": [],
   "source": [
    "df.loc[df[\"CARRIER\"] == \"L4\", \"CARRIER_NAME\"] = \"Lynx Aviation d/b/a Frontier Airlines\""
   ],
   "metadata": {
    "collapsed": false,
    "pycharm": {
     "name": "#%%\n"
    }
   }
  },
  {
   "cell_type": "markdown",
   "source": [
    "Since AIRLINE_ID and CARRIER/CARRIER_NAME should have a one to one mapping, we process in a similar way."
   ],
   "metadata": {
    "collapsed": false,
    "pycharm": {
     "name": "#%% md\n"
    }
   }
  },
  {
   "cell_type": "code",
   "execution_count": 358,
   "outputs": [
    {
     "name": "stdout",
     "output_type": "stream",
     "text": [
      "      CARRIER                           CARRIER_NAME\n",
      "11465      L4  Lynx Aviation d/b/a Frontier Airlines\n",
      "54610      OH                                    NaN\n"
     ]
    }
   ],
   "source": [
    "miss_id = df[\"AIRLINE_ID\"].isna()\n",
    "print(df.loc[miss_id, [\"CARRIER\", \"CARRIER_NAME\"]].drop_duplicates())"
   ],
   "metadata": {
    "collapsed": false,
    "pycharm": {
     "name": "#%%\n"
    }
   }
  },
  {
   "cell_type": "code",
   "execution_count": 359,
   "outputs": [
    {
     "name": "stdout",
     "output_type": "stream",
     "text": [
      "11465        NaN\n",
      "18739    21217.0\n",
      "Name: AIRLINE_ID, dtype: float64\n"
     ]
    }
   ],
   "source": [
    "print(df.loc[df[\"CARRIER\"] == \"L4\", \"AIRLINE_ID\"].drop_duplicates())"
   ],
   "metadata": {
    "collapsed": false,
    "pycharm": {
     "name": "#%%\n"
    }
   }
  },
  {
   "cell_type": "code",
   "execution_count": 360,
   "outputs": [],
   "source": [
    "df.loc[df[\"CARRIER\"] == \"L4\", \"AIRLINE_ID\"] = 21217"
   ],
   "metadata": {
    "collapsed": false,
    "pycharm": {
     "name": "#%%\n"
    }
   }
  },
  {
   "cell_type": "markdown",
   "source": [
    "Now we try to impute MANUFACTURE_YEAR, NUMBER_OF_SEATS, and CAPACITY_IN_POUNDS. It is very reasonable for the latter two to be same or very similar for every aircraft of the same model. Hence, we can use mean imputation after group by MODEL. Since each model could produce in a moderate time span, this might not be the perfect strategy for MANUFACTURE_YEAR but there is no better estimators available. Hence, we also apply the mean imputation to that.\n",
    "\n",
    "GEN AI USE: ChatGPT-o4\n",
    "\"I want to impute MANUFACTURE_YEAR, NUMBER_OF_SEATS, CAPACITY_IN_POUNDS with the model mean. i.e., calculate the mean of each values for the same MODEL.\"\n",
    "\n",
    "In an initial version, after examining some filled data, I observed that in some cases \"0\" is filled. This is probably because such model never appear elsewhere in the dataset. In this case, we rather give up imputation.\n",
    "\n",
    "\"For rows that we intend to impute, if we cannot find the corresponding model elsewhere in the dataset, we will not impute.\"\n"
   ],
   "metadata": {
    "collapsed": false,
    "pycharm": {
     "name": "#%% md\n"
    }
   }
  },
  {
   "cell_type": "code",
   "execution_count": 361,
   "outputs": [],
   "source": [
    "cols = [\"MANUFACTURE_YEAR\",\"NUMBER_OF_SEATS\",\"CAPACITY_IN_POUNDS\"]\n",
    "\n",
    "for col in cols:\n",
    "    model_means = df.groupby(\"MODEL\")[col].mean()\n",
    "\n",
    "    impute_mask = (\n",
    "        df[\"MODEL\"].notna() &\n",
    "        df[col].isna() &\n",
    "        df[\"MODEL\"].map(model_means).notna()\n",
    "    )\n",
    "\n",
    "    df.loc[impute_mask, col] = df.loc[impute_mask, \"MODEL\"].map(model_means)"
   ],
   "metadata": {
    "collapsed": false,
    "pycharm": {
     "name": "#%%\n"
    }
   }
  },
  {
   "cell_type": "code",
   "execution_count": 362,
   "outputs": [
    {
     "name": "stdout",
     "output_type": "stream",
     "text": [
      "       MANUFACTURE_YEAR  NUMBER_OF_SEATS  CAPACITY_IN_POUNDS\n",
      "78991            1982.0            181.0       173639.862069\n",
      "79015            2012.0              0.0       237756.000000\n",
      "79016            2012.0              0.0       237756.000000\n",
      "81902            1971.0              0.0       137895.511182\n",
      "81903            1971.0              0.0       137895.511182\n",
      "81904            1972.0              0.0       137895.511182\n",
      "81905            1972.0              0.0       137895.511182\n",
      "81906            1972.0              0.0       137895.511182\n",
      "81907            1972.0              0.0       137895.511182\n",
      "81908            1973.0              0.0       137895.511182\n",
      "81909            1973.0              0.0       137895.511182\n",
      "81910            1973.0              0.0       167529.276596\n",
      "81911            1973.0              0.0       137895.511182\n",
      "81912            1974.0              0.0       137895.511182\n",
      "81913            1974.0              0.0       137895.511182\n",
      "81914            1974.0              0.0       137895.511182\n",
      "81915            1974.0              0.0       137895.511182\n",
      "81916            1975.0              0.0       137895.511182\n",
      "81917            1975.0              0.0       137895.511182\n",
      "81918            1975.0              0.0       167529.276596\n",
      "81919            1975.0              0.0       137895.511182\n",
      "81920            1977.0              0.0       137895.511182\n",
      "81921            1978.0              0.0       167529.276596\n",
      "81922            1979.0              0.0       137895.511182\n",
      "81923            1979.0              0.0       167529.276596\n",
      "81924            1979.0              0.0       137895.511182\n",
      "81925            1979.0              0.0       137895.511182\n",
      "81926            1979.0              0.0       137895.511182\n",
      "81927            1979.0              0.0       137895.511182\n",
      "81928            1980.0              0.0       137895.511182\n",
      "81929            1980.0              0.0       137895.511182\n",
      "81930            1980.0              0.0       167529.276596\n",
      "81931            1980.0              0.0       137895.511182\n",
      "81932            1980.0              0.0       167529.276596\n",
      "81933            1980.0              0.0       167529.276596\n",
      "81934            1981.0              0.0       137895.511182\n",
      "81939            1985.0              0.0       167529.276596\n",
      "81957            1986.0              0.0       167529.276596\n",
      "81958            1986.0              0.0       167529.276596\n",
      "82054            1988.0              0.0       167529.276596\n",
      "82055            1988.0              0.0       167529.276596\n",
      "82056            1988.0              0.0       167529.276596\n",
      "82224            1991.0              0.0       194319.101713\n",
      "82225            1991.0              0.0       194319.101713\n",
      "82226            1991.0              0.0       194319.101713\n",
      "82227            1991.0              0.0       194319.101713\n",
      "82228            1991.0              0.0       194319.101713\n",
      "82229            1991.0              0.0       194319.101713\n",
      "82230            1991.0              0.0       194319.101713\n",
      "82231            1991.0              0.0       194319.101713\n"
     ]
    }
   ],
   "source": [
    "print(df.loc[impute_mask, cols].head(50))"
   ],
   "metadata": {
    "collapsed": false,
    "pycharm": {
     "name": "#%%\n"
    }
   }
  },
  {
   "cell_type": "markdown",
   "source": [
    "It is strange that there are still 0's for the NUMBER_OF_SEATS."
   ],
   "metadata": {
    "collapsed": false,
    "pycharm": {
     "name": "#%% md\n"
    }
   }
  },
  {
   "cell_type": "code",
   "execution_count": 363,
   "outputs": [
    {
     "data": {
      "text/plain": "YEAR                                    2017\nCARRIER                                   5Y\nCARRIER_NAME                  Atlas Air Inc.\nMANUFACTURE_YEAR                      2012.0\nUNIQUE_CARRIER_NAME           Atlas Air Inc.\nSERIAL_NUMBER                          37809\nTAIL_NUMBER                           N643GT\nAIRCRAFT_STATUS                            b\nOPERATING_STATUS                           Y\nNUMBER_OF_SEATS                          0.0\nMANUFACTURER                          BOEING\nAIRCRAFT_TYPE                           6262\nMODEL                               B767-300\nCAPACITY_IN_POUNDS                  237756.0\nACQUISITION_DATE       1/17/2013 12:00:00 AM\nAIRLINE_ID                           20007.0\nUNIQUE_CARRIER                            5Y\nName: 79015, dtype: object"
     },
     "execution_count": 363,
     "metadata": {},
     "output_type": "execute_result"
    }
   ],
   "source": [
    "df.iloc[79015]"
   ],
   "metadata": {
    "collapsed": false,
    "pycharm": {
     "name": "#%%\n"
    }
   }
  },
  {
   "cell_type": "code",
   "execution_count": 364,
   "outputs": [
    {
     "data": {
      "text/plain": "        YEAR CARRIER             CARRIER_NAME  MANUFACTURE_YEAR  \\\n36692   2011      5Y           Atlas Air Inc.            1990.0   \n36694   2011      5Y           Atlas Air Inc.            1992.0   \n71855   2016      5Y           Atlas Air Inc.            2012.0   \n71856   2016      5Y           Atlas Air Inc.            2012.0   \n79015   2017      5Y           Atlas Air Inc.            2012.0   \n79016   2017      5Y           Atlas Air Inc.            2012.0   \n98561   2019      PO  Polar Air Cargo Airways            2013.0   \n98565   2019      PO  Polar Air Cargo Airways            2014.0   \n98566   2019      PO  Polar Air Cargo Airways            2015.0   \n98567   2019      PO  Polar Air Cargo Airways            2016.0   \n106129  2020      PO  Polar Air Cargo Airways            1983.0   \n106130  2020      PO  Polar Air Cargo Airways            1996.0   \n106144  2020      PO  Polar Air Cargo Airways            2012.0   \n106145  2020      PO  Polar Air Cargo Airways            2012.0   \n113902  2021      PO  Polar Air Cargo Airways            1983.0   \n113903  2021      PO  Polar Air Cargo Airways            1996.0   \n113917  2021      PO  Polar Air Cargo Airways            2012.0   \n113918  2021      PO  Polar Air Cargo Airways            2012.0   \n121971  2022      PO  Polar Air Cargo Airways            1983.0   \n121972  2022      PO  Polar Air Cargo Airways            1996.0   \n121986  2022      PO  Polar Air Cargo Airways            2012.0   \n121987  2022      PO  Polar Air Cargo Airways            2012.0   \n129825  2023      PO  Polar Air Cargo Airways            1983.0   \n129826  2023      PO  Polar Air Cargo Airways            1996.0   \n129840  2023      PO  Polar Air Cargo Airways            2012.0   \n129841  2023      PO  Polar Air Cargo Airways            2012.0   \n\n            UNIQUE_CARRIER_NAME SERIAL_NUMBER TAIL_NUMBER AIRCRAFT_STATUS  \\\n36692            Atlas Air Inc.         25221      N640MC               O   \n36694            Atlas Air Inc.         25132      N641MC               O   \n71855            Atlas Air Inc.         37809      N643GT               b   \n71856            Atlas Air Inc.         37810      N644GT               b   \n79015            Atlas Air Inc.         37809      N643GT               b   \n79016            Atlas Air Inc.         37810      N644GT               b   \n98561   Polar Air Cargo Airways         37810      N644GT               b   \n98565   Polar Air Cargo Airways         37809      N643GT               b   \n98566   Polar Air Cargo Airways         27611      N647GT               b   \n98567   Polar Air Cargo Airways         26207      N642GT               b   \n106129  Polar Air Cargo Airways         26207      N642GT               b   \n106130  Polar Air Cargo Airways         27611      N647GT               b   \n106144  Polar Air Cargo Airways         37809      N643GT               b   \n106145  Polar Air Cargo Airways         37810      N644GT               b   \n113902  Polar Air Cargo Airways         26207      N642GT               b   \n113903  Polar Air Cargo Airways         27611      N647GT               b   \n113917  Polar Air Cargo Airways         37809      N643GT               b   \n113918  Polar Air Cargo Airways         37810      N644GT               b   \n121971  Polar Air Cargo Airways         26207      N642GT               b   \n121972  Polar Air Cargo Airways         27611      N647GT               b   \n121986  Polar Air Cargo Airways         37809      N643GT               b   \n121987  Polar Air Cargo Airways         37810      N644GT               b   \n129825  Polar Air Cargo Airways         26207      N642GT               b   \n129826  Polar Air Cargo Airways         27611      N647GT               b   \n129840  Polar Air Cargo Airways         37809      N643GT               b   \n129841  Polar Air Cargo Airways         37810      N644GT               b   \n\n       OPERATING_STATUS  NUMBER_OF_SEATS MANUFACTURER AIRCRAFT_TYPE     MODEL  \\\n36692                 Y              0.0       BOEING          6261  B767-300   \n36694                 Y              0.0       BOEING          6261  B767-300   \n71855                 Y              0.0       BOEING          6262  B767-300   \n71856                 Y              0.0       BOEING          6262  B767-300   \n79015                 Y              0.0       BOEING          6262  B767-300   \n79016                 Y              0.0       BOEING          6262  B767-300   \n98561                 Y              0.0       BOEING          6262  B767-300   \n98565                 Y              0.0       BOEING          6262  B767-300   \n98566                 Y              0.0       BOEING          6262  B767-300   \n98567                 Y              0.0       BOEING          6262  B767-300   \n106129                Y              0.0       BOEING          6262  B767-300   \n106130                Y              0.0       BOEING          6262  B767-300   \n106144                Y              0.0       BOEING          6262  B767-300   \n106145                Y              0.0       BOEING          6262  B767-300   \n113902                Y              0.0       BOEING          6262  B767-300   \n113903                Y              0.0       BOEING          6262  B767-300   \n113917                Y              0.0       BOEING          6262  B767-300   \n113918                Y              0.0       BOEING          6262  B767-300   \n121971                Y              0.0       BOEING          6262  B767-300   \n121972                Y              0.0       BOEING          6262  B767-300   \n121986                Y              0.0       BOEING          6262  B767-300   \n121987                Y              0.0       BOEING          6262  B767-300   \n129825                Y              0.0       BOEING          6262  B767-300   \n129826                Y              0.0       BOEING          6262  B767-300   \n129840                Y              0.0       BOEING          6262  B767-300   \n129841                Y              0.0       BOEING          6262  B767-300   \n\n        CAPACITY_IN_POUNDS        ACQUISITION_DATE  AIRLINE_ID UNIQUE_CARRIER  \n36692             237756.0    3/9/1997 12:00:00 AM     20007.0             5Y  \n36694             237756.0    3/9/1997 12:00:00 AM     20007.0             5Y  \n71855             237756.0   1/17/2013 12:00:00 AM     20007.0             5Y  \n71856             237756.0   1/22/2013 12:00:00 AM     20007.0             5Y  \n79015             237756.0   1/17/2013 12:00:00 AM     20007.0             5Y  \n79016             237756.0   1/22/2013 12:00:00 AM     20007.0             5Y  \n98561             237756.0   1/23/2013 12:00:00 AM     20100.0             PO  \n98565             237756.0   7/17/2014 12:00:00 AM     20100.0             PO  \n98566             237756.0  12/12/2015 12:00:00 AM     20100.0             PO  \n98567             237756.0   2/25/2016 12:00:00 AM     20100.0             PO  \n106129            237756.0   2/25/2016 12:00:00 AM     20100.0             PO  \n106130            237756.0  12/12/2015 12:00:00 AM     20100.0             PO  \n106144            237756.0   7/17/2014 12:00:00 AM     20100.0             PO  \n106145            237756.0   1/23/2013 12:00:00 AM     20100.0             PO  \n113902            237756.0   2/25/2016 12:00:00 AM     20100.0             PO  \n113903            237756.0  12/12/2015 12:00:00 AM     20100.0             PO  \n113917            237756.0   7/17/2014 12:00:00 AM     20100.0             PO  \n113918            237756.0   1/23/2013 12:00:00 AM     20100.0             PO  \n121971            237756.0   2/25/2016 12:00:00 AM     20100.0             PO  \n121972            237756.0  12/12/2015 12:00:00 AM     20100.0             PO  \n121986            237756.0   7/17/2014 12:00:00 AM     20100.0             PO  \n121987            237756.0   1/23/2013 12:00:00 AM     20100.0             PO  \n129825            237756.0   2/25/2016 12:00:00 AM     20100.0             PO  \n129826            237756.0  12/12/2015 12:00:00 AM     20100.0             PO  \n129840            237756.0   7/17/2014 12:00:00 AM     20100.0             PO  \n129841            237756.0   1/23/2013 12:00:00 AM     20100.0             PO  ",
      "text/html": "<div>\n<style scoped>\n    .dataframe tbody tr th:only-of-type {\n        vertical-align: middle;\n    }\n\n    .dataframe tbody tr th {\n        vertical-align: top;\n    }\n\n    .dataframe thead th {\n        text-align: right;\n    }\n</style>\n<table border=\"1\" class=\"dataframe\">\n  <thead>\n    <tr style=\"text-align: right;\">\n      <th></th>\n      <th>YEAR</th>\n      <th>CARRIER</th>\n      <th>CARRIER_NAME</th>\n      <th>MANUFACTURE_YEAR</th>\n      <th>UNIQUE_CARRIER_NAME</th>\n      <th>SERIAL_NUMBER</th>\n      <th>TAIL_NUMBER</th>\n      <th>AIRCRAFT_STATUS</th>\n      <th>OPERATING_STATUS</th>\n      <th>NUMBER_OF_SEATS</th>\n      <th>MANUFACTURER</th>\n      <th>AIRCRAFT_TYPE</th>\n      <th>MODEL</th>\n      <th>CAPACITY_IN_POUNDS</th>\n      <th>ACQUISITION_DATE</th>\n      <th>AIRLINE_ID</th>\n      <th>UNIQUE_CARRIER</th>\n    </tr>\n  </thead>\n  <tbody>\n    <tr>\n      <th>36692</th>\n      <td>2011</td>\n      <td>5Y</td>\n      <td>Atlas Air Inc.</td>\n      <td>1990.0</td>\n      <td>Atlas Air Inc.</td>\n      <td>25221</td>\n      <td>N640MC</td>\n      <td>O</td>\n      <td>Y</td>\n      <td>0.0</td>\n      <td>BOEING</td>\n      <td>6261</td>\n      <td>B767-300</td>\n      <td>237756.0</td>\n      <td>3/9/1997 12:00:00 AM</td>\n      <td>20007.0</td>\n      <td>5Y</td>\n    </tr>\n    <tr>\n      <th>36694</th>\n      <td>2011</td>\n      <td>5Y</td>\n      <td>Atlas Air Inc.</td>\n      <td>1992.0</td>\n      <td>Atlas Air Inc.</td>\n      <td>25132</td>\n      <td>N641MC</td>\n      <td>O</td>\n      <td>Y</td>\n      <td>0.0</td>\n      <td>BOEING</td>\n      <td>6261</td>\n      <td>B767-300</td>\n      <td>237756.0</td>\n      <td>3/9/1997 12:00:00 AM</td>\n      <td>20007.0</td>\n      <td>5Y</td>\n    </tr>\n    <tr>\n      <th>71855</th>\n      <td>2016</td>\n      <td>5Y</td>\n      <td>Atlas Air Inc.</td>\n      <td>2012.0</td>\n      <td>Atlas Air Inc.</td>\n      <td>37809</td>\n      <td>N643GT</td>\n      <td>b</td>\n      <td>Y</td>\n      <td>0.0</td>\n      <td>BOEING</td>\n      <td>6262</td>\n      <td>B767-300</td>\n      <td>237756.0</td>\n      <td>1/17/2013 12:00:00 AM</td>\n      <td>20007.0</td>\n      <td>5Y</td>\n    </tr>\n    <tr>\n      <th>71856</th>\n      <td>2016</td>\n      <td>5Y</td>\n      <td>Atlas Air Inc.</td>\n      <td>2012.0</td>\n      <td>Atlas Air Inc.</td>\n      <td>37810</td>\n      <td>N644GT</td>\n      <td>b</td>\n      <td>Y</td>\n      <td>0.0</td>\n      <td>BOEING</td>\n      <td>6262</td>\n      <td>B767-300</td>\n      <td>237756.0</td>\n      <td>1/22/2013 12:00:00 AM</td>\n      <td>20007.0</td>\n      <td>5Y</td>\n    </tr>\n    <tr>\n      <th>79015</th>\n      <td>2017</td>\n      <td>5Y</td>\n      <td>Atlas Air Inc.</td>\n      <td>2012.0</td>\n      <td>Atlas Air Inc.</td>\n      <td>37809</td>\n      <td>N643GT</td>\n      <td>b</td>\n      <td>Y</td>\n      <td>0.0</td>\n      <td>BOEING</td>\n      <td>6262</td>\n      <td>B767-300</td>\n      <td>237756.0</td>\n      <td>1/17/2013 12:00:00 AM</td>\n      <td>20007.0</td>\n      <td>5Y</td>\n    </tr>\n    <tr>\n      <th>79016</th>\n      <td>2017</td>\n      <td>5Y</td>\n      <td>Atlas Air Inc.</td>\n      <td>2012.0</td>\n      <td>Atlas Air Inc.</td>\n      <td>37810</td>\n      <td>N644GT</td>\n      <td>b</td>\n      <td>Y</td>\n      <td>0.0</td>\n      <td>BOEING</td>\n      <td>6262</td>\n      <td>B767-300</td>\n      <td>237756.0</td>\n      <td>1/22/2013 12:00:00 AM</td>\n      <td>20007.0</td>\n      <td>5Y</td>\n    </tr>\n    <tr>\n      <th>98561</th>\n      <td>2019</td>\n      <td>PO</td>\n      <td>Polar Air Cargo Airways</td>\n      <td>2013.0</td>\n      <td>Polar Air Cargo Airways</td>\n      <td>37810</td>\n      <td>N644GT</td>\n      <td>b</td>\n      <td>Y</td>\n      <td>0.0</td>\n      <td>BOEING</td>\n      <td>6262</td>\n      <td>B767-300</td>\n      <td>237756.0</td>\n      <td>1/23/2013 12:00:00 AM</td>\n      <td>20100.0</td>\n      <td>PO</td>\n    </tr>\n    <tr>\n      <th>98565</th>\n      <td>2019</td>\n      <td>PO</td>\n      <td>Polar Air Cargo Airways</td>\n      <td>2014.0</td>\n      <td>Polar Air Cargo Airways</td>\n      <td>37809</td>\n      <td>N643GT</td>\n      <td>b</td>\n      <td>Y</td>\n      <td>0.0</td>\n      <td>BOEING</td>\n      <td>6262</td>\n      <td>B767-300</td>\n      <td>237756.0</td>\n      <td>7/17/2014 12:00:00 AM</td>\n      <td>20100.0</td>\n      <td>PO</td>\n    </tr>\n    <tr>\n      <th>98566</th>\n      <td>2019</td>\n      <td>PO</td>\n      <td>Polar Air Cargo Airways</td>\n      <td>2015.0</td>\n      <td>Polar Air Cargo Airways</td>\n      <td>27611</td>\n      <td>N647GT</td>\n      <td>b</td>\n      <td>Y</td>\n      <td>0.0</td>\n      <td>BOEING</td>\n      <td>6262</td>\n      <td>B767-300</td>\n      <td>237756.0</td>\n      <td>12/12/2015 12:00:00 AM</td>\n      <td>20100.0</td>\n      <td>PO</td>\n    </tr>\n    <tr>\n      <th>98567</th>\n      <td>2019</td>\n      <td>PO</td>\n      <td>Polar Air Cargo Airways</td>\n      <td>2016.0</td>\n      <td>Polar Air Cargo Airways</td>\n      <td>26207</td>\n      <td>N642GT</td>\n      <td>b</td>\n      <td>Y</td>\n      <td>0.0</td>\n      <td>BOEING</td>\n      <td>6262</td>\n      <td>B767-300</td>\n      <td>237756.0</td>\n      <td>2/25/2016 12:00:00 AM</td>\n      <td>20100.0</td>\n      <td>PO</td>\n    </tr>\n    <tr>\n      <th>106129</th>\n      <td>2020</td>\n      <td>PO</td>\n      <td>Polar Air Cargo Airways</td>\n      <td>1983.0</td>\n      <td>Polar Air Cargo Airways</td>\n      <td>26207</td>\n      <td>N642GT</td>\n      <td>b</td>\n      <td>Y</td>\n      <td>0.0</td>\n      <td>BOEING</td>\n      <td>6262</td>\n      <td>B767-300</td>\n      <td>237756.0</td>\n      <td>2/25/2016 12:00:00 AM</td>\n      <td>20100.0</td>\n      <td>PO</td>\n    </tr>\n    <tr>\n      <th>106130</th>\n      <td>2020</td>\n      <td>PO</td>\n      <td>Polar Air Cargo Airways</td>\n      <td>1996.0</td>\n      <td>Polar Air Cargo Airways</td>\n      <td>27611</td>\n      <td>N647GT</td>\n      <td>b</td>\n      <td>Y</td>\n      <td>0.0</td>\n      <td>BOEING</td>\n      <td>6262</td>\n      <td>B767-300</td>\n      <td>237756.0</td>\n      <td>12/12/2015 12:00:00 AM</td>\n      <td>20100.0</td>\n      <td>PO</td>\n    </tr>\n    <tr>\n      <th>106144</th>\n      <td>2020</td>\n      <td>PO</td>\n      <td>Polar Air Cargo Airways</td>\n      <td>2012.0</td>\n      <td>Polar Air Cargo Airways</td>\n      <td>37809</td>\n      <td>N643GT</td>\n      <td>b</td>\n      <td>Y</td>\n      <td>0.0</td>\n      <td>BOEING</td>\n      <td>6262</td>\n      <td>B767-300</td>\n      <td>237756.0</td>\n      <td>7/17/2014 12:00:00 AM</td>\n      <td>20100.0</td>\n      <td>PO</td>\n    </tr>\n    <tr>\n      <th>106145</th>\n      <td>2020</td>\n      <td>PO</td>\n      <td>Polar Air Cargo Airways</td>\n      <td>2012.0</td>\n      <td>Polar Air Cargo Airways</td>\n      <td>37810</td>\n      <td>N644GT</td>\n      <td>b</td>\n      <td>Y</td>\n      <td>0.0</td>\n      <td>BOEING</td>\n      <td>6262</td>\n      <td>B767-300</td>\n      <td>237756.0</td>\n      <td>1/23/2013 12:00:00 AM</td>\n      <td>20100.0</td>\n      <td>PO</td>\n    </tr>\n    <tr>\n      <th>113902</th>\n      <td>2021</td>\n      <td>PO</td>\n      <td>Polar Air Cargo Airways</td>\n      <td>1983.0</td>\n      <td>Polar Air Cargo Airways</td>\n      <td>26207</td>\n      <td>N642GT</td>\n      <td>b</td>\n      <td>Y</td>\n      <td>0.0</td>\n      <td>BOEING</td>\n      <td>6262</td>\n      <td>B767-300</td>\n      <td>237756.0</td>\n      <td>2/25/2016 12:00:00 AM</td>\n      <td>20100.0</td>\n      <td>PO</td>\n    </tr>\n    <tr>\n      <th>113903</th>\n      <td>2021</td>\n      <td>PO</td>\n      <td>Polar Air Cargo Airways</td>\n      <td>1996.0</td>\n      <td>Polar Air Cargo Airways</td>\n      <td>27611</td>\n      <td>N647GT</td>\n      <td>b</td>\n      <td>Y</td>\n      <td>0.0</td>\n      <td>BOEING</td>\n      <td>6262</td>\n      <td>B767-300</td>\n      <td>237756.0</td>\n      <td>12/12/2015 12:00:00 AM</td>\n      <td>20100.0</td>\n      <td>PO</td>\n    </tr>\n    <tr>\n      <th>113917</th>\n      <td>2021</td>\n      <td>PO</td>\n      <td>Polar Air Cargo Airways</td>\n      <td>2012.0</td>\n      <td>Polar Air Cargo Airways</td>\n      <td>37809</td>\n      <td>N643GT</td>\n      <td>b</td>\n      <td>Y</td>\n      <td>0.0</td>\n      <td>BOEING</td>\n      <td>6262</td>\n      <td>B767-300</td>\n      <td>237756.0</td>\n      <td>7/17/2014 12:00:00 AM</td>\n      <td>20100.0</td>\n      <td>PO</td>\n    </tr>\n    <tr>\n      <th>113918</th>\n      <td>2021</td>\n      <td>PO</td>\n      <td>Polar Air Cargo Airways</td>\n      <td>2012.0</td>\n      <td>Polar Air Cargo Airways</td>\n      <td>37810</td>\n      <td>N644GT</td>\n      <td>b</td>\n      <td>Y</td>\n      <td>0.0</td>\n      <td>BOEING</td>\n      <td>6262</td>\n      <td>B767-300</td>\n      <td>237756.0</td>\n      <td>1/23/2013 12:00:00 AM</td>\n      <td>20100.0</td>\n      <td>PO</td>\n    </tr>\n    <tr>\n      <th>121971</th>\n      <td>2022</td>\n      <td>PO</td>\n      <td>Polar Air Cargo Airways</td>\n      <td>1983.0</td>\n      <td>Polar Air Cargo Airways</td>\n      <td>26207</td>\n      <td>N642GT</td>\n      <td>b</td>\n      <td>Y</td>\n      <td>0.0</td>\n      <td>BOEING</td>\n      <td>6262</td>\n      <td>B767-300</td>\n      <td>237756.0</td>\n      <td>2/25/2016 12:00:00 AM</td>\n      <td>20100.0</td>\n      <td>PO</td>\n    </tr>\n    <tr>\n      <th>121972</th>\n      <td>2022</td>\n      <td>PO</td>\n      <td>Polar Air Cargo Airways</td>\n      <td>1996.0</td>\n      <td>Polar Air Cargo Airways</td>\n      <td>27611</td>\n      <td>N647GT</td>\n      <td>b</td>\n      <td>Y</td>\n      <td>0.0</td>\n      <td>BOEING</td>\n      <td>6262</td>\n      <td>B767-300</td>\n      <td>237756.0</td>\n      <td>12/12/2015 12:00:00 AM</td>\n      <td>20100.0</td>\n      <td>PO</td>\n    </tr>\n    <tr>\n      <th>121986</th>\n      <td>2022</td>\n      <td>PO</td>\n      <td>Polar Air Cargo Airways</td>\n      <td>2012.0</td>\n      <td>Polar Air Cargo Airways</td>\n      <td>37809</td>\n      <td>N643GT</td>\n      <td>b</td>\n      <td>Y</td>\n      <td>0.0</td>\n      <td>BOEING</td>\n      <td>6262</td>\n      <td>B767-300</td>\n      <td>237756.0</td>\n      <td>7/17/2014 12:00:00 AM</td>\n      <td>20100.0</td>\n      <td>PO</td>\n    </tr>\n    <tr>\n      <th>121987</th>\n      <td>2022</td>\n      <td>PO</td>\n      <td>Polar Air Cargo Airways</td>\n      <td>2012.0</td>\n      <td>Polar Air Cargo Airways</td>\n      <td>37810</td>\n      <td>N644GT</td>\n      <td>b</td>\n      <td>Y</td>\n      <td>0.0</td>\n      <td>BOEING</td>\n      <td>6262</td>\n      <td>B767-300</td>\n      <td>237756.0</td>\n      <td>1/23/2013 12:00:00 AM</td>\n      <td>20100.0</td>\n      <td>PO</td>\n    </tr>\n    <tr>\n      <th>129825</th>\n      <td>2023</td>\n      <td>PO</td>\n      <td>Polar Air Cargo Airways</td>\n      <td>1983.0</td>\n      <td>Polar Air Cargo Airways</td>\n      <td>26207</td>\n      <td>N642GT</td>\n      <td>b</td>\n      <td>Y</td>\n      <td>0.0</td>\n      <td>BOEING</td>\n      <td>6262</td>\n      <td>B767-300</td>\n      <td>237756.0</td>\n      <td>2/25/2016 12:00:00 AM</td>\n      <td>20100.0</td>\n      <td>PO</td>\n    </tr>\n    <tr>\n      <th>129826</th>\n      <td>2023</td>\n      <td>PO</td>\n      <td>Polar Air Cargo Airways</td>\n      <td>1996.0</td>\n      <td>Polar Air Cargo Airways</td>\n      <td>27611</td>\n      <td>N647GT</td>\n      <td>b</td>\n      <td>Y</td>\n      <td>0.0</td>\n      <td>BOEING</td>\n      <td>6262</td>\n      <td>B767-300</td>\n      <td>237756.0</td>\n      <td>12/12/2015 12:00:00 AM</td>\n      <td>20100.0</td>\n      <td>PO</td>\n    </tr>\n    <tr>\n      <th>129840</th>\n      <td>2023</td>\n      <td>PO</td>\n      <td>Polar Air Cargo Airways</td>\n      <td>2012.0</td>\n      <td>Polar Air Cargo Airways</td>\n      <td>37809</td>\n      <td>N643GT</td>\n      <td>b</td>\n      <td>Y</td>\n      <td>0.0</td>\n      <td>BOEING</td>\n      <td>6262</td>\n      <td>B767-300</td>\n      <td>237756.0</td>\n      <td>7/17/2014 12:00:00 AM</td>\n      <td>20100.0</td>\n      <td>PO</td>\n    </tr>\n    <tr>\n      <th>129841</th>\n      <td>2023</td>\n      <td>PO</td>\n      <td>Polar Air Cargo Airways</td>\n      <td>2012.0</td>\n      <td>Polar Air Cargo Airways</td>\n      <td>37810</td>\n      <td>N644GT</td>\n      <td>b</td>\n      <td>Y</td>\n      <td>0.0</td>\n      <td>BOEING</td>\n      <td>6262</td>\n      <td>B767-300</td>\n      <td>237756.0</td>\n      <td>1/23/2013 12:00:00 AM</td>\n      <td>20100.0</td>\n      <td>PO</td>\n    </tr>\n  </tbody>\n</table>\n</div>"
     },
     "execution_count": 364,
     "metadata": {},
     "output_type": "execute_result"
    }
   ],
   "source": [
    "df[df[\"MODEL\"] == \"B767-300\"]"
   ],
   "metadata": {
    "collapsed": false,
    "pycharm": {
     "name": "#%%\n"
    }
   }
  },
  {
   "cell_type": "markdown",
   "source": [
    "It turns out that it is common to have 0 as a placeholder for those MODEL where NUMBER_OF_SEATS are unknown. Hence we will leave it as that."
   ],
   "metadata": {
    "collapsed": false,
    "pycharm": {
     "name": "#%% md\n"
    }
   }
  },
  {
   "cell_type": "markdown",
   "source": [
    "Question 2"
   ],
   "metadata": {
    "collapsed": false,
    "pycharm": {
     "name": "#%% md\n"
    }
   }
  },
  {
   "cell_type": "code",
   "execution_count": 365,
   "outputs": [
    {
     "data": {
      "text/plain": "     YEAR CARRIER            CARRIER_NAME  MANUFACTURE_YEAR  \\\n0    2006      16       PSA Airlines Inc.            2003.0   \n1    2006      16       PSA Airlines Inc.            2003.0   \n2    2006      16       PSA Airlines Inc.            2003.0   \n3    2006      16       PSA Airlines Inc.            2003.0   \n4    2006      16       PSA Airlines Inc.            2003.0   \n..    ...     ...                     ...               ...   \n995  2006      AA  American Airlines Inc.            1993.0   \n996  2006      AA  American Airlines Inc.            1994.0   \n997  2006      AA  American Airlines Inc.            1994.0   \n998  2006      AA  American Airlines Inc.            1994.0   \n999  2006      AA  American Airlines Inc.            1994.0   \n\n        UNIQUE_CARRIER_NAME SERIAL_NUMBER TAIL_NUMBER AIRCRAFT_STATUS  \\\n0         PSA Airlines Inc.          7858      N202PS               B   \n1         PSA Airlines Inc.          7860      N206PS               B   \n2         PSA Airlines Inc.          7873      N207PS               B   \n3         PSA Airlines Inc.          7874      N209PS               B   \n4         PSA Airlines Inc.          7879      N213PS               B   \n..                      ...           ...         ...             ...   \n995  American Airlines Inc.           675      N80084               O   \n996  American Airlines Inc.         26973      N693AA               O   \n997  American Airlines Inc.         26974      N694AA               O   \n998  American Airlines Inc.         26975      N695AN               O   \n999  American Airlines Inc.         26976      N696AN               O   \n\n    OPERATING_STATUS  NUMBER_OF_SEATS MANUFACTURER AIRCRAFT_TYPE    MODEL  \\\n0                  Y             50.0     CANADAIR           NaN  CRJ-2/4   \n1                  Y             50.0     CANADAIR           NaN  CRJ-2/4   \n2                  Y             50.0     CANADAIR           NaN  CRJ-2/4   \n3                  Y             50.0     CANADAIR           NaN  CRJ-2/4   \n4                  Y             50.0     CANADAIR           NaN  CRJ-2/4   \n..               ...              ...          ...           ...      ...   \n995                Y            267.0       AIRBUS           NaN   A300-6   \n996                Y            188.0       BOEING           NaN   B757-2   \n997                Y            188.0       BOEING           NaN   B757-2   \n998                Y            188.0       BOEING           NaN   B757-2   \n999                Y            188.0       BOEING           NaN   B757-2   \n\n     CAPACITY_IN_POUNDS        ACQUISITION_DATE  AIRLINE_ID UNIQUE_CARRIER  \n0               47000.0  10/28/2003 12:00:00 AM     20397.0             16  \n1               47000.0  10/30/2003 12:00:00 AM     20397.0             16  \n2               47000.0  11/26/2003 12:00:00 AM     20397.0             16  \n3               47000.0   12/4/2003 12:00:00 AM     20397.0             16  \n4               47000.0  12/16/2003 12:00:00 AM     20397.0             16  \n..                  ...                     ...         ...            ...  \n995             77700.0   2/19/1993 12:00:00 AM     19805.0             AA  \n996             49500.0    1/7/1994 12:00:00 AM     19805.0             AA  \n997             49500.0   1/26/1994 12:00:00 AM     19805.0             AA  \n998             49500.0   6/13/1994 12:00:00 AM     19805.0             AA  \n999             49500.0   7/15/1994 12:00:00 AM     19805.0             AA  \n\n[1000 rows x 17 columns]",
      "text/html": "<div>\n<style scoped>\n    .dataframe tbody tr th:only-of-type {\n        vertical-align: middle;\n    }\n\n    .dataframe tbody tr th {\n        vertical-align: top;\n    }\n\n    .dataframe thead th {\n        text-align: right;\n    }\n</style>\n<table border=\"1\" class=\"dataframe\">\n  <thead>\n    <tr style=\"text-align: right;\">\n      <th></th>\n      <th>YEAR</th>\n      <th>CARRIER</th>\n      <th>CARRIER_NAME</th>\n      <th>MANUFACTURE_YEAR</th>\n      <th>UNIQUE_CARRIER_NAME</th>\n      <th>SERIAL_NUMBER</th>\n      <th>TAIL_NUMBER</th>\n      <th>AIRCRAFT_STATUS</th>\n      <th>OPERATING_STATUS</th>\n      <th>NUMBER_OF_SEATS</th>\n      <th>MANUFACTURER</th>\n      <th>AIRCRAFT_TYPE</th>\n      <th>MODEL</th>\n      <th>CAPACITY_IN_POUNDS</th>\n      <th>ACQUISITION_DATE</th>\n      <th>AIRLINE_ID</th>\n      <th>UNIQUE_CARRIER</th>\n    </tr>\n  </thead>\n  <tbody>\n    <tr>\n      <th>0</th>\n      <td>2006</td>\n      <td>16</td>\n      <td>PSA Airlines Inc.</td>\n      <td>2003.0</td>\n      <td>PSA Airlines Inc.</td>\n      <td>7858</td>\n      <td>N202PS</td>\n      <td>B</td>\n      <td>Y</td>\n      <td>50.0</td>\n      <td>CANADAIR</td>\n      <td>NaN</td>\n      <td>CRJ-2/4</td>\n      <td>47000.0</td>\n      <td>10/28/2003 12:00:00 AM</td>\n      <td>20397.0</td>\n      <td>16</td>\n    </tr>\n    <tr>\n      <th>1</th>\n      <td>2006</td>\n      <td>16</td>\n      <td>PSA Airlines Inc.</td>\n      <td>2003.0</td>\n      <td>PSA Airlines Inc.</td>\n      <td>7860</td>\n      <td>N206PS</td>\n      <td>B</td>\n      <td>Y</td>\n      <td>50.0</td>\n      <td>CANADAIR</td>\n      <td>NaN</td>\n      <td>CRJ-2/4</td>\n      <td>47000.0</td>\n      <td>10/30/2003 12:00:00 AM</td>\n      <td>20397.0</td>\n      <td>16</td>\n    </tr>\n    <tr>\n      <th>2</th>\n      <td>2006</td>\n      <td>16</td>\n      <td>PSA Airlines Inc.</td>\n      <td>2003.0</td>\n      <td>PSA Airlines Inc.</td>\n      <td>7873</td>\n      <td>N207PS</td>\n      <td>B</td>\n      <td>Y</td>\n      <td>50.0</td>\n      <td>CANADAIR</td>\n      <td>NaN</td>\n      <td>CRJ-2/4</td>\n      <td>47000.0</td>\n      <td>11/26/2003 12:00:00 AM</td>\n      <td>20397.0</td>\n      <td>16</td>\n    </tr>\n    <tr>\n      <th>3</th>\n      <td>2006</td>\n      <td>16</td>\n      <td>PSA Airlines Inc.</td>\n      <td>2003.0</td>\n      <td>PSA Airlines Inc.</td>\n      <td>7874</td>\n      <td>N209PS</td>\n      <td>B</td>\n      <td>Y</td>\n      <td>50.0</td>\n      <td>CANADAIR</td>\n      <td>NaN</td>\n      <td>CRJ-2/4</td>\n      <td>47000.0</td>\n      <td>12/4/2003 12:00:00 AM</td>\n      <td>20397.0</td>\n      <td>16</td>\n    </tr>\n    <tr>\n      <th>4</th>\n      <td>2006</td>\n      <td>16</td>\n      <td>PSA Airlines Inc.</td>\n      <td>2003.0</td>\n      <td>PSA Airlines Inc.</td>\n      <td>7879</td>\n      <td>N213PS</td>\n      <td>B</td>\n      <td>Y</td>\n      <td>50.0</td>\n      <td>CANADAIR</td>\n      <td>NaN</td>\n      <td>CRJ-2/4</td>\n      <td>47000.0</td>\n      <td>12/16/2003 12:00:00 AM</td>\n      <td>20397.0</td>\n      <td>16</td>\n    </tr>\n    <tr>\n      <th>...</th>\n      <td>...</td>\n      <td>...</td>\n      <td>...</td>\n      <td>...</td>\n      <td>...</td>\n      <td>...</td>\n      <td>...</td>\n      <td>...</td>\n      <td>...</td>\n      <td>...</td>\n      <td>...</td>\n      <td>...</td>\n      <td>...</td>\n      <td>...</td>\n      <td>...</td>\n      <td>...</td>\n      <td>...</td>\n    </tr>\n    <tr>\n      <th>995</th>\n      <td>2006</td>\n      <td>AA</td>\n      <td>American Airlines Inc.</td>\n      <td>1993.0</td>\n      <td>American Airlines Inc.</td>\n      <td>675</td>\n      <td>N80084</td>\n      <td>O</td>\n      <td>Y</td>\n      <td>267.0</td>\n      <td>AIRBUS</td>\n      <td>NaN</td>\n      <td>A300-6</td>\n      <td>77700.0</td>\n      <td>2/19/1993 12:00:00 AM</td>\n      <td>19805.0</td>\n      <td>AA</td>\n    </tr>\n    <tr>\n      <th>996</th>\n      <td>2006</td>\n      <td>AA</td>\n      <td>American Airlines Inc.</td>\n      <td>1994.0</td>\n      <td>American Airlines Inc.</td>\n      <td>26973</td>\n      <td>N693AA</td>\n      <td>O</td>\n      <td>Y</td>\n      <td>188.0</td>\n      <td>BOEING</td>\n      <td>NaN</td>\n      <td>B757-2</td>\n      <td>49500.0</td>\n      <td>1/7/1994 12:00:00 AM</td>\n      <td>19805.0</td>\n      <td>AA</td>\n    </tr>\n    <tr>\n      <th>997</th>\n      <td>2006</td>\n      <td>AA</td>\n      <td>American Airlines Inc.</td>\n      <td>1994.0</td>\n      <td>American Airlines Inc.</td>\n      <td>26974</td>\n      <td>N694AA</td>\n      <td>O</td>\n      <td>Y</td>\n      <td>188.0</td>\n      <td>BOEING</td>\n      <td>NaN</td>\n      <td>B757-2</td>\n      <td>49500.0</td>\n      <td>1/26/1994 12:00:00 AM</td>\n      <td>19805.0</td>\n      <td>AA</td>\n    </tr>\n    <tr>\n      <th>998</th>\n      <td>2006</td>\n      <td>AA</td>\n      <td>American Airlines Inc.</td>\n      <td>1994.0</td>\n      <td>American Airlines Inc.</td>\n      <td>26975</td>\n      <td>N695AN</td>\n      <td>O</td>\n      <td>Y</td>\n      <td>188.0</td>\n      <td>BOEING</td>\n      <td>NaN</td>\n      <td>B757-2</td>\n      <td>49500.0</td>\n      <td>6/13/1994 12:00:00 AM</td>\n      <td>19805.0</td>\n      <td>AA</td>\n    </tr>\n    <tr>\n      <th>999</th>\n      <td>2006</td>\n      <td>AA</td>\n      <td>American Airlines Inc.</td>\n      <td>1994.0</td>\n      <td>American Airlines Inc.</td>\n      <td>26976</td>\n      <td>N696AN</td>\n      <td>O</td>\n      <td>Y</td>\n      <td>188.0</td>\n      <td>BOEING</td>\n      <td>NaN</td>\n      <td>B757-2</td>\n      <td>49500.0</td>\n      <td>7/15/1994 12:00:00 AM</td>\n      <td>19805.0</td>\n      <td>AA</td>\n    </tr>\n  </tbody>\n</table>\n<p>1000 rows × 17 columns</p>\n</div>"
     },
     "execution_count": 365,
     "metadata": {},
     "output_type": "execute_result"
    }
   ],
   "source": [
    "df.head(1000)"
   ],
   "metadata": {
    "collapsed": false,
    "pycharm": {
     "name": "#%%\n"
    }
   }
  },
  {
   "cell_type": "code",
   "execution_count": 366,
   "outputs": [
    {
     "data": {
      "text/plain": "MANUFACTURER\nBOEING                                                                              15922\nEmbraer                                                                             11508\nTHEBOEINGCO                                                                          9223\nBombardier                                                                           8871\nBoeing                                                                               8392\n                                                                                    ...  \nBEECHCRAFT                                                                              1\nFOKKER71                                                                                1\nFOKKER70                                                                                1\nFOKKER72                                                                                1\nMCDONNEL                                                                                1\nName: count, Length: 183, dtype: int64"
     },
     "execution_count": 366,
     "metadata": {},
     "output_type": "execute_result"
    }
   ],
   "source": [
    "manufacturer_frequency = df[\"MANUFACTURER\"].value_counts(dropna=False)\n",
    "manufacturer_frequency"
   ],
   "metadata": {
    "collapsed": false,
    "pycharm": {
     "name": "#%%\n"
    }
   }
  },
  {
   "cell_type": "markdown",
   "source": [
    "There are too many alias for companies and it is impossible to manually combine all of them. Hence, I only try to merge two of the largest manufacturers, Boeing and Airbus."
   ],
   "metadata": {
    "collapsed": false,
    "pycharm": {
     "name": "#%% md\n"
    }
   }
  },
  {
   "cell_type": "code",
   "execution_count": 367,
   "outputs": [
    {
     "data": {
      "text/plain": "MANUFACTURER\nBoeing                      55639\nAirbus                      23517\nEmbraer                     11508\nBombardier                   8871\nCESSNA                       4157\n                            ...  \nISRAELAIRCRAFTINDUSTRIES        1\nFOKKER72                        1\nFOKKER70                        1\nFOKKER71                        1\nB757-223                        1\nName: count, Length: 162, dtype: int64"
     },
     "execution_count": 367,
     "metadata": {},
     "output_type": "execute_result"
    }
   ],
   "source": [
    "mask_boeing = df[\"MANUFACTURER\"].str.contains(\"boeing\", case=False, na=False)\n",
    "mask_airbus = df[\"MANUFACTURER\"].str.contains(\"airbus\", case=False, na=False)\n",
    "\n",
    "df.loc[mask_boeing, \"MANUFACTURER\"] = \"Boeing\"\n",
    "df.loc[mask_airbus, \"MANUFACTURER\"] = \"Airbus\"\n",
    "\n",
    "manufacturer_frequency = df[\"MANUFACTURER\"].value_counts(dropna=False)\n",
    "manufacturer_frequency"
   ],
   "metadata": {
    "collapsed": false,
    "pycharm": {
     "name": "#%%\n"
    }
   }
  },
  {
   "cell_type": "code",
   "execution_count": 368,
   "outputs": [
    {
     "data": {
      "text/plain": "MODEL\nEMB-145          2614\nB-737-7H4        2470\nB737-823         2370\nA320-232         2333\nA321-231         2259\n                 ... \nB-777-212           1\nB-777-2U8           1\nB767-328            1\nCHAL-601-3A         1\nERJ170-200STD       1\nName: count, Length: 1341, dtype: int64"
     },
     "execution_count": 368,
     "metadata": {},
     "output_type": "execute_result"
    }
   ],
   "source": [
    "model_frequency = df[\"MODEL\"].value_counts(dropna=False)\n",
    "model_frequency"
   ],
   "metadata": {
    "collapsed": false,
    "pycharm": {
     "name": "#%%\n"
    }
   }
  },
  {
   "cell_type": "markdown",
   "source": [
    "This is extremely complicated that I cannot make sure what are the same model and what are not. As one example, I standardized all trailing \"passenger/passengeronly\" to \"-PSGR\".\n",
    "\n",
    "GEN AI USE: ChatGPT-o4\n",
    "\"For all model names, I want to change all trailing \"passenger\"/\"passengeronly\" (case insensitive) to \"-PSGR\". Provide a regex pattern.\""
   ],
   "metadata": {
    "collapsed": false,
    "pycharm": {
     "name": "#%% md\n"
    }
   }
  },
  {
   "cell_type": "code",
   "execution_count": 369,
   "outputs": [
    {
     "data": {
      "text/plain": "MODEL\nEMB-145          2614\nB-737-7H4        2470\nB737-823         2370\nA320-232         2333\nA321-231         2259\n                 ... \nB-732-AF            1\nB-777-FHT           1\nChallenger601       1\nA-320-112           1\nERJ170-200STD       1\nName: count, Length: 1335, dtype: int64"
     },
     "execution_count": 369,
     "metadata": {},
     "output_type": "execute_result"
    }
   ],
   "source": [
    "df[\"MODEL\"] = df[\"MODEL\"].str.replace(\n",
    "    r'(?i)[\\s\\-]*(passengeronly|passenger)\\s*$',\n",
    "    \"-PSGR\",\n",
    "    regex=True\n",
    ")\n",
    "\n",
    "model_frequency = df[\"MODEL\"].value_counts(dropna=False)\n",
    "model_frequency"
   ],
   "metadata": {
    "collapsed": false,
    "pycharm": {
     "name": "#%%\n"
    }
   }
  },
  {
   "cell_type": "code",
   "execution_count": 370,
   "outputs": [
    {
     "data": {
      "text/plain": "AIRCRAFT_STATUS\nO    79487\nb    30852\nB    12699\na     7804\nA     1330\nL      122\no       19\nName: count, dtype: int64"
     },
     "execution_count": 370,
     "metadata": {},
     "output_type": "execute_result"
    }
   ],
   "source": [
    "aircraft_status_frequency = df[\"AIRCRAFT_STATUS\"].value_counts(dropna=False)\n",
    "aircraft_status_frequency"
   ],
   "metadata": {
    "collapsed": false,
    "pycharm": {
     "name": "#%%\n"
    }
   }
  },
  {
   "cell_type": "markdown",
   "source": [
    "From BTS, we code should be capital A, B, O. We firstly update all letters to be capital - however, we also see there are 122 instances of code L. I chose to remain it despite it does not appear on the explanation page. The case for OPERATING_STATUS is similar."
   ],
   "metadata": {
    "collapsed": false,
    "pycharm": {
     "name": "#%% md\n"
    }
   }
  },
  {
   "cell_type": "code",
   "execution_count": 371,
   "outputs": [],
   "source": [
    "df[\"AIRCRAFT_STATUS\"] = df[\"AIRCRAFT_STATUS\"].str.upper()"
   ],
   "metadata": {
    "collapsed": false,
    "pycharm": {
     "name": "#%%\n"
    }
   }
  },
  {
   "cell_type": "code",
   "execution_count": 372,
   "outputs": [
    {
     "data": {
      "text/plain": "OPERATING_STATUS\nY    126577\nN      5664\ny        71\n          1\nName: count, dtype: int64"
     },
     "execution_count": 372,
     "metadata": {},
     "output_type": "execute_result"
    }
   ],
   "source": [
    "operating_status_frequency = df[\"OPERATING_STATUS\"].value_counts(dropna=True)\n",
    "operating_status_frequency"
   ],
   "metadata": {
    "collapsed": false,
    "pycharm": {
     "name": "#%%\n"
    }
   }
  },
  {
   "cell_type": "code",
   "execution_count": 373,
   "outputs": [],
   "source": [
    "df[\"OPERATING_STATUS\"] = df[\"OPERATING_STATUS\"].str.upper()\n",
    "df = df[(df[\"OPERATING_STATUS\"] == \"Y\") | (df[\"OPERATING_STATUS\"] == \"N\")]"
   ],
   "metadata": {
    "collapsed": false,
    "pycharm": {
     "name": "#%%\n"
    }
   }
  },
  {
   "cell_type": "markdown",
   "source": [
    "Question 3"
   ],
   "metadata": {
    "collapsed": false,
    "pycharm": {
     "name": "#%% md\n"
    }
   }
  },
  {
   "cell_type": "markdown",
   "source": [
    "Initial length is:"
   ],
   "metadata": {
    "collapsed": false,
    "pycharm": {
     "name": "#%% md\n"
    }
   }
  },
  {
   "cell_type": "code",
   "execution_count": 374,
   "outputs": [
    {
     "data": {
      "text/plain": "132312"
     },
     "execution_count": 374,
     "metadata": {},
     "output_type": "execute_result"
    }
   ],
   "source": [
    "len(df)"
   ],
   "metadata": {
    "collapsed": false,
    "pycharm": {
     "name": "#%%\n"
    }
   }
  },
  {
   "cell_type": "markdown",
   "source": [
    "After dropping NaN, but not 0's:"
   ],
   "metadata": {
    "collapsed": false,
    "pycharm": {
     "name": "#%% md\n"
    }
   }
  },
  {
   "cell_type": "code",
   "execution_count": 375,
   "outputs": [
    {
     "data": {
      "text/plain": "101275"
     },
     "execution_count": 375,
     "metadata": {},
     "output_type": "execute_result"
    }
   ],
   "source": [
    "df = df.dropna()\n",
    "len(df)"
   ],
   "metadata": {
    "collapsed": false,
    "pycharm": {
     "name": "#%%\n"
    }
   }
  },
  {
   "cell_type": "markdown",
   "source": [
    "Question 4"
   ],
   "metadata": {
    "collapsed": false,
    "pycharm": {
     "name": "#%% md\n"
    }
   }
  },
  {
   "cell_type": "code",
   "execution_count": 376,
   "outputs": [
    {
     "data": {
      "text/plain": "NUMBER_OF_SEATS\n0.0      16901\n50.0      9665\n76.0      6061\n143.0     5508\n160.0     3578\n         ...  \n314.0        1\n313.0        1\n94.0         1\n23.0         1\n296.0        1\nName: count, Length: 233, dtype: int64"
     },
     "execution_count": 376,
     "metadata": {},
     "output_type": "execute_result"
    }
   ],
   "source": [
    "seats_frequency = df[\"NUMBER_OF_SEATS\"].value_counts(dropna=False)\n",
    "seats_frequency"
   ],
   "metadata": {
    "collapsed": false,
    "pycharm": {
     "name": "#%%\n"
    }
   }
  },
  {
   "cell_type": "code",
   "execution_count": 377,
   "outputs": [
    {
     "data": {
      "text/plain": "CAPACITY_IN_POUNDS\n36200.0     5421\n3500.0      3376\n40800.0     3238\n0.0         2269\n53000.0     2047\n            ... \n138289.0       1\n205363.0       1\n122078.0       1\n42721.0        1\n37605.0        1\nName: count, Length: 1744, dtype: int64"
     },
     "execution_count": 377,
     "metadata": {},
     "output_type": "execute_result"
    }
   ],
   "source": [
    "capacity_frequency = df[\"CAPACITY_IN_POUNDS\"].value_counts(dropna=False)\n",
    "capacity_frequency"
   ],
   "metadata": {
    "collapsed": false,
    "pycharm": {
     "name": "#%%\n"
    }
   }
  },
  {
   "cell_type": "markdown",
   "source": [
    "As mentioned at the end of Question 1, both columns have a considerable number of 0 (which does not make sense), possibly as placeholders. In essence they can be treated as missing entries. To make the analysis of this question meaningful, we drop these rows as well."
   ],
   "metadata": {
    "collapsed": false,
    "pycharm": {
     "name": "#%% md\n"
    }
   }
  },
  {
   "cell_type": "code",
   "execution_count": 378,
   "outputs": [
    {
     "data": {
      "text/plain": "82301"
     },
     "execution_count": 378,
     "metadata": {},
     "output_type": "execute_result"
    }
   ],
   "source": [
    "df = df[(df[\"CAPACITY_IN_POUNDS\"] != 0) & (df[\"NUMBER_OF_SEATS\"]!= 0)]\n",
    "len(df)"
   ],
   "metadata": {
    "collapsed": false,
    "pycharm": {
     "name": "#%%\n"
    }
   }
  },
  {
   "cell_type": "markdown",
   "source": [
    "Since the procedure for two columns are identical, we process them together."
   ],
   "metadata": {
    "collapsed": false,
    "pycharm": {
     "name": "#%% md\n"
    }
   }
  },
  {
   "cell_type": "code",
   "execution_count": 379,
   "outputs": [
    {
     "name": "stdout",
     "output_type": "stream",
     "text": [
      "Current column: NUMBER_OF_SEATS\n",
      "Raw skewness: 0.7795668816674661\n"
     ]
    },
    {
     "data": {
      "text/plain": "<Figure size 640x480 with 1 Axes>",
      "image/png": "[encoded data removed]"
     },
     "metadata": {},
     "output_type": "display_data"
    },
    {
     "name": "stdout",
     "output_type": "stream",
     "text": [
      "New skewness: 0.009972852321790179\n"
     ]
    },
    {
     "data": {
      "text/plain": "<Figure size 640x480 with 1 Axes>",
      "image/png": "[encoded data removed]"
     },
     "metadata": {},
     "output_type": "display_data"
    },
    {
     "name": "stdout",
     "output_type": "stream",
     "text": [
      "Current column: CAPACITY_IN_POUNDS\n",
      "Raw skewness: 4.182874310374644\n"
     ]
    },
    {
     "data": {
      "text/plain": "<Figure size 640x480 with 1 Axes>",
      "image/png": "[encoded data removed]"
     },
     "metadata": {},
     "output_type": "display_data"
    },
    {
     "name": "stdout",
     "output_type": "stream",
     "text": [
      "New skewness: 0.06602430469770965\n"
     ]
    },
    {
     "data": {
      "text/plain": "<Figure size 640x480 with 1 Axes>",
      "image/png": "[encoded data removed]"
     },
     "metadata": {},
     "output_type": "display_data"
    }
   ],
   "source": [
    "import matplotlib.pyplot as plt\n",
    "from scipy.stats import boxcox\n",
    "\n",
    "for col in [\"NUMBER_OF_SEATS\",\"CAPACITY_IN_POUNDS\"]:\n",
    "    print(f\"Current column: {col}\")\n",
    "    data = df[col]\n",
    "    raw_skew = data.skew()\n",
    "    print(f\"Raw skewness: {raw_skew}\")\n",
    "\n",
    "    plt.figure()\n",
    "    plt.hist(data, bins=100)\n",
    "    plt.title(\"Histogram before transformation\")\n",
    "    plt.xlabel(col)\n",
    "    plt.ylabel(\"Count\")\n",
    "    plt.show()\n",
    "\n",
    "    transformed, lam = boxcox(data)\n",
    "    df[f\"{col}_BOXCOX\"] = transformed\n",
    "\n",
    "    new_skew = pd.Series(transformed).skew()\n",
    "    print(f\"New skewness: {new_skew}\")\n",
    "\n",
    "    plt.figure()\n",
    "    plt.hist(transformed, bins=100)\n",
    "    plt.title(\"Histogram after transformation\")\n",
    "    plt.xlabel(f\"{col}_BOXCOX\")\n",
    "    plt.ylabel(\"Count\")\n",
    "    plt.show()"
   ],
   "metadata": {
    "collapsed": false,
    "pycharm": {
     "name": "#%%\n"
    }
   }
  },
  {
   "cell_type": "markdown",
   "source": [
    "We see that both seats and capacity were initially right skewed where capacity has a very high skewness. Skewness for both columns drop significantly after the boxcox transformation. However, They are far away from a perfect bell shape as some seats and capacity counts cluster at some certain number - for example, around 45-50 for seats before transformation - which makes sense as certain model might have a fixed number of seats/pounds of capacity. These traits will preserve even after the transformation."
   ],
   "metadata": {
    "collapsed": false,
    "pycharm": {
     "name": "#%% md\n"
    }
   }
  },
  {
   "cell_type": "markdown",
   "source": [
    "Question 5"
   ],
   "metadata": {
    "collapsed": false,
    "pycharm": {
     "name": "#%% md\n"
    }
   }
  },
  {
   "cell_type": "markdown",
   "source": [
    "GEN AI USE: ChatGPT-o4\n",
    "\"What is the best way to create a new column SIZE for my df depending on quantile of NUMBER_OF_SEATS where each quantile is named \"SMALL\",\"MEDIUM\",\"LARGE\",\"XLARGE\"?\""
   ],
   "metadata": {
    "collapsed": false,
    "pycharm": {
     "name": "#%% md\n"
    }
   }
  },
  {
   "cell_type": "code",
   "execution_count": 380,
   "outputs": [],
   "source": [
    "size_labels = [\"SMALL\",\"MEDIUM\",\"LARGE\",\"XLARGE\"]\n",
    "df[\"SIZE\"] = pd.qcut(df[\"NUMBER_OF_SEATS\"], q=4, labels=size_labels)"
   ],
   "metadata": {
    "collapsed": false,
    "pycharm": {
     "name": "#%%\n"
    }
   }
  },
  {
   "cell_type": "code",
   "execution_count": 381,
   "outputs": [
    {
     "name": "stderr",
     "output_type": "stream",
     "text": [
      "/var/folders/vz/sz_zpsp925g47k7jh62mz3ch0000gp/T/ipykernel_24621/3280984283.py:2: FutureWarning: The default of observed=False is deprecated and will be changed to True in a future version of pandas. Pass observed=False to retain current behavior or observed=True to adopt the future default and silence this warning.\n",
      "  size_count = df.groupby([\"SIZE\", col]).size().unstack(fill_value=0)\n"
     ]
    },
    {
     "data": {
      "text/plain": "<Figure size 800x600 with 1 Axes>",
      "image/png": "[encoded data removed]"
     },
     "metadata": {},
     "output_type": "display_data"
    },
    {
     "name": "stderr",
     "output_type": "stream",
     "text": [
      "/var/folders/vz/sz_zpsp925g47k7jh62mz3ch0000gp/T/ipykernel_24621/3280984283.py:2: FutureWarning: The default of observed=False is deprecated and will be changed to True in a future version of pandas. Pass observed=False to retain current behavior or observed=True to adopt the future default and silence this warning.\n",
      "  size_count = df.groupby([\"SIZE\", col]).size().unstack(fill_value=0)\n"
     ]
    },
    {
     "data": {
      "text/plain": "<Figure size 800x600 with 1 Axes>",
      "image/png": "[encoded data removed]"
     },
     "metadata": {},
     "output_type": "display_data"
    }
   ],
   "source": [
    "for col in [\"OPERATING_STATUS\", \"AIRCRAFT_STATUS\"]:\n",
    "    size_count = df.groupby([\"SIZE\", col]).size().unstack(fill_value=0)\n",
    "    prop = (size_count.apply(lambda row: row / row.sum(), axis=1))\n",
    "\n",
    "    prop.plot(\n",
    "        kind=\"bar\",\n",
    "        stacked=True,\n",
    "        figsize=(8, 6),\n",
    "        title=f\"{col} Proportions by SIZE\"\n",
    "    )\n",
    "    plt.ylabel(\"Proportion\")\n",
    "    plt.xlabel(\"SIZE\")\n",
    "    plt.legend(title=col)\n",
    "    plt.tight_layout()\n",
    "    plt.show()"
   ],
   "metadata": {
    "collapsed": false,
    "pycharm": {
     "name": "#%%\n"
    }
   }
  },
  {
   "cell_type": "markdown",
   "source": [
    "For OPERATING_STATUS, all sizes have much more Y(Yes) than N(No). We see that LARGE and XLARGE have slightly more Y than the other two sizes (proportionally).\n",
    "\n",
    "For AIRCRAFT_STATUS, the most significant trend is that larger sizes have more proportion of O(Owned). That is, larger aircraft are more likely to be owned than leased."
   ],
   "metadata": {
    "collapsed": false,
    "pycharm": {
     "name": "#%% md\n"
    }
   }
  },
  {
   "cell_type": "markdown",
   "source": [
    "GEN AI Disclosure have been included in the notebook where GEN AI was used."
   ],
   "metadata": {
    "collapsed": false,
    "pycharm": {
     "name": "#%% md\n"
    }
   }
  }
 ],
 "metadata": {
  "kernelspec": {
   "display_name": "Python 3",
   "language": "python",
   "name": "python3"
  },
  "language_info": {
   "codemirror_mode": {
    "name": "ipython",
    "version": 2
   },
   "file_extension": ".py",
   "mimetype": "text/x-python",
   "name": "python",
   "nbconvert_exporter": "python",
   "pygments_lexer": "ipython2",
   "version": "2.7.6"
  }
 },
 "nbformat": 4,
 "nbformat_minor": 0
}
